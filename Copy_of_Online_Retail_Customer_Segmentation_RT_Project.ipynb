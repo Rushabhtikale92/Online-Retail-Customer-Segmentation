{
  "nbformat": 4,
  "nbformat_minor": 0,
  "metadata": {
    "kernelspec": {
      "display_name": "Python 3",
      "language": "python",
      "name": "python3"
    },
    "language_info": {
      "codemirror_mode": {
        "name": "ipython",
        "version": 3
      },
      "file_extension": ".py",
      "mimetype": "text/x-python",
      "name": "python",
      "nbconvert_exporter": "python",
      "pygments_lexer": "ipython3",
      "version": "3.6.6"
    },
    "colab": {
      "name": "Copy of Online Retail Customer Segmentation - RT Project.ipynb",
      "provenance": [],
      "collapsed_sections": [],
      "toc_visible": true,
      "include_colab_link": true
    }
  },
  "cells": [
    {
      "cell_type": "markdown",
      "metadata": {
        "id": "view-in-github",
        "colab_type": "text"
      },
      "source": [
        "<a href=\"https://colab.research.google.com/github/Rushabhtikale92/Online-Retail-Customer-Segmentation/blob/main/Copy_of_Online_Retail_Customer_Segmentation_RT_Project.ipynb\" target=\"_parent\"><img src=\"https://colab.research.google.com/assets/colab-badge.svg\" alt=\"Open In Colab\"/></a>"
      ]
    },
    {
      "cell_type": "markdown",
      "metadata": {
        "id": "tOGC-qoyhJeX"
      },
      "source": [
        "# <b><u> Project Title : Extraction/identification of major topics & themes discussed in news articles. </u></b>"
      ]
    },
    {
      "cell_type": "markdown",
      "metadata": {
        "id": "Y06xIdG26kRF"
      },
      "source": [
        "## <b> Problem Description </b>\n",
        "\n",
        "### In this project, your task is to identify major customer segments on a transnational data set which contains all the transactions occurring between 01/12/2010 and 09/12/2011 for a UK-based and registered non-store online retail.The company mainly sells unique all-occasion gifts. Many customers of the company are wholesalers."
      ]
    },
    {
      "cell_type": "markdown",
      "metadata": {
        "id": "AlLxAtlziMbP"
      },
      "source": [
        "## <b> Data Description </b>\n",
        "\n",
        "### <b>Attribute Information: </b>\n",
        "\n",
        "* ### InvoiceNo: Invoice number. Nominal, a 6-digit integral number uniquely assigned to each transaction. If this code starts with letter 'c', it indicates a cancellation.\n",
        "* ### StockCode: Product (item) code. Nominal, a 5-digit integral number uniquely assigned to each distinct product.\n",
        "* ### Description: Product (item) name. Nominal.\n",
        "* ### Quantity: The quantities of each product (item) per transaction. Numeric.\n",
        "* ### InvoiceDate: Invice Date and time. Numeric, the day and time when each transaction was generated.\n",
        "* ### UnitPrice: Unit price. Numeric, Product price per unit in sterling.\n",
        "* ### CustomerID: Customer number. Nominal, a 5-digit integral number uniquely assigned to each customer.\n",
        "* ### Country: Country name. Nominal, the name of the country where each customer resides."
      ]
    },
    {
      "cell_type": "code",
      "metadata": {
        "id": "dByMsuzT8Tnw"
      },
      "source": [
        "# Importing the libraries\n",
        "import numpy as np\n",
        "import pandas as pd\n",
        "from numpy import math\n",
        "import seaborn as sns\n",
        "from datetime import datetime\n",
        "import warnings\n",
        "from pylab import rcParams\n",
        "import matplotlib.pyplot as plt\n",
        "import seaborn as sns; sns.set()\n",
        "%matplotlib inline\n",
        "warnings.filterwarnings('ignore')"
      ],
      "execution_count": 3,
      "outputs": []
    },
    {
      "cell_type": "code",
      "source": [
        "from google.colab import drive\n",
        "drive.mount('/content/drive')"
      ],
      "metadata": {
        "id": "lCsip6J187Rp",
        "colab": {
          "base_uri": "https://localhost:8080/"
        },
        "outputId": "f28c0726-edde-4546-81d1-91b1242f4811"
      },
      "execution_count": 4,
      "outputs": [
        {
          "output_type": "stream",
          "name": "stdout",
          "text": [
            "Mounted at /content/drive\n"
          ]
        }
      ]
    },
    {
      "cell_type": "code",
      "source": [
        "# Importing the dataset\n",
        "data = pd.read_csv('/content/drive/MyDrive/CSV/Online Retail.xlsx - Online Retail.csv')"
      ],
      "metadata": {
        "id": "gLIgD9Z_9IEF"
      },
      "execution_count": 6,
      "outputs": []
    },
    {
      "cell_type": "markdown",
      "source": [
        "# **Sample Data**"
      ],
      "metadata": {
        "id": "JkmyYyLc9NSX"
      }
    },
    {
      "cell_type": "code",
      "source": [
        "data.head()"
      ],
      "metadata": {
        "colab": {
          "base_uri": "https://localhost:8080/",
          "height": 206
        },
        "id": "8qNj9O5G9N2y",
        "outputId": "e95ecdd7-a1ca-4370-9a08-1e760b71961f"
      },
      "execution_count": null,
      "outputs": [
        {
          "output_type": "execute_result",
          "data": {
            "text/plain": [
              "  InvoiceNo StockCode                          Description  Quantity  \\\n",
              "0    536365    85123A   WHITE HANGING HEART T-LIGHT HOLDER         6   \n",
              "1    536365     71053                  WHITE METAL LANTERN         6   \n",
              "2    536365    84406B       CREAM CUPID HEARTS COAT HANGER         8   \n",
              "3    536365    84029G  KNITTED UNION FLAG HOT WATER BOTTLE         6   \n",
              "4    536365    84029E       RED WOOLLY HOTTIE WHITE HEART.         6   \n",
              "\n",
              "    InvoiceDate  UnitPrice  CustomerID         Country  \n",
              "0  12/1/10 8:26       2.55     17850.0  United Kingdom  \n",
              "1  12/1/10 8:26       3.39     17850.0  United Kingdom  \n",
              "2  12/1/10 8:26       2.75     17850.0  United Kingdom  \n",
              "3  12/1/10 8:26       3.39     17850.0  United Kingdom  \n",
              "4  12/1/10 8:26       3.39     17850.0  United Kingdom  "
            ],
            "text/html": [
              "\n",
              "  <div id=\"df-40694f04-9a73-4f7d-a768-d590002afc88\">\n",
              "    <div class=\"colab-df-container\">\n",
              "      <div>\n",
              "<style scoped>\n",
              "    .dataframe tbody tr th:only-of-type {\n",
              "        vertical-align: middle;\n",
              "    }\n",
              "\n",
              "    .dataframe tbody tr th {\n",
              "        vertical-align: top;\n",
              "    }\n",
              "\n",
              "    .dataframe thead th {\n",
              "        text-align: right;\n",
              "    }\n",
              "</style>\n",
              "<table border=\"1\" class=\"dataframe\">\n",
              "  <thead>\n",
              "    <tr style=\"text-align: right;\">\n",
              "      <th></th>\n",
              "      <th>InvoiceNo</th>\n",
              "      <th>StockCode</th>\n",
              "      <th>Description</th>\n",
              "      <th>Quantity</th>\n",
              "      <th>InvoiceDate</th>\n",
              "      <th>UnitPrice</th>\n",
              "      <th>CustomerID</th>\n",
              "      <th>Country</th>\n",
              "    </tr>\n",
              "  </thead>\n",
              "  <tbody>\n",
              "    <tr>\n",
              "      <th>0</th>\n",
              "      <td>536365</td>\n",
              "      <td>85123A</td>\n",
              "      <td>WHITE HANGING HEART T-LIGHT HOLDER</td>\n",
              "      <td>6</td>\n",
              "      <td>12/1/10 8:26</td>\n",
              "      <td>2.55</td>\n",
              "      <td>17850.0</td>\n",
              "      <td>United Kingdom</td>\n",
              "    </tr>\n",
              "    <tr>\n",
              "      <th>1</th>\n",
              "      <td>536365</td>\n",
              "      <td>71053</td>\n",
              "      <td>WHITE METAL LANTERN</td>\n",
              "      <td>6</td>\n",
              "      <td>12/1/10 8:26</td>\n",
              "      <td>3.39</td>\n",
              "      <td>17850.0</td>\n",
              "      <td>United Kingdom</td>\n",
              "    </tr>\n",
              "    <tr>\n",
              "      <th>2</th>\n",
              "      <td>536365</td>\n",
              "      <td>84406B</td>\n",
              "      <td>CREAM CUPID HEARTS COAT HANGER</td>\n",
              "      <td>8</td>\n",
              "      <td>12/1/10 8:26</td>\n",
              "      <td>2.75</td>\n",
              "      <td>17850.0</td>\n",
              "      <td>United Kingdom</td>\n",
              "    </tr>\n",
              "    <tr>\n",
              "      <th>3</th>\n",
              "      <td>536365</td>\n",
              "      <td>84029G</td>\n",
              "      <td>KNITTED UNION FLAG HOT WATER BOTTLE</td>\n",
              "      <td>6</td>\n",
              "      <td>12/1/10 8:26</td>\n",
              "      <td>3.39</td>\n",
              "      <td>17850.0</td>\n",
              "      <td>United Kingdom</td>\n",
              "    </tr>\n",
              "    <tr>\n",
              "      <th>4</th>\n",
              "      <td>536365</td>\n",
              "      <td>84029E</td>\n",
              "      <td>RED WOOLLY HOTTIE WHITE HEART.</td>\n",
              "      <td>6</td>\n",
              "      <td>12/1/10 8:26</td>\n",
              "      <td>3.39</td>\n",
              "      <td>17850.0</td>\n",
              "      <td>United Kingdom</td>\n",
              "    </tr>\n",
              "  </tbody>\n",
              "</table>\n",
              "</div>\n",
              "      <button class=\"colab-df-convert\" onclick=\"convertToInteractive('df-40694f04-9a73-4f7d-a768-d590002afc88')\"\n",
              "              title=\"Convert this dataframe to an interactive table.\"\n",
              "              style=\"display:none;\">\n",
              "        \n",
              "  <svg xmlns=\"http://www.w3.org/2000/svg\" height=\"24px\"viewBox=\"0 0 24 24\"\n",
              "       width=\"24px\">\n",
              "    <path d=\"M0 0h24v24H0V0z\" fill=\"none\"/>\n",
              "    <path d=\"M18.56 5.44l.94 2.06.94-2.06 2.06-.94-2.06-.94-.94-2.06-.94 2.06-2.06.94zm-11 1L8.5 8.5l.94-2.06 2.06-.94-2.06-.94L8.5 2.5l-.94 2.06-2.06.94zm10 10l.94 2.06.94-2.06 2.06-.94-2.06-.94-.94-2.06-.94 2.06-2.06.94z\"/><path d=\"M17.41 7.96l-1.37-1.37c-.4-.4-.92-.59-1.43-.59-.52 0-1.04.2-1.43.59L10.3 9.45l-7.72 7.72c-.78.78-.78 2.05 0 2.83L4 21.41c.39.39.9.59 1.41.59.51 0 1.02-.2 1.41-.59l7.78-7.78 2.81-2.81c.8-.78.8-2.07 0-2.86zM5.41 20L4 18.59l7.72-7.72 1.47 1.35L5.41 20z\"/>\n",
              "  </svg>\n",
              "      </button>\n",
              "      \n",
              "  <style>\n",
              "    .colab-df-container {\n",
              "      display:flex;\n",
              "      flex-wrap:wrap;\n",
              "      gap: 12px;\n",
              "    }\n",
              "\n",
              "    .colab-df-convert {\n",
              "      background-color: #E8F0FE;\n",
              "      border: none;\n",
              "      border-radius: 50%;\n",
              "      cursor: pointer;\n",
              "      display: none;\n",
              "      fill: #1967D2;\n",
              "      height: 32px;\n",
              "      padding: 0 0 0 0;\n",
              "      width: 32px;\n",
              "    }\n",
              "\n",
              "    .colab-df-convert:hover {\n",
              "      background-color: #E2EBFA;\n",
              "      box-shadow: 0px 1px 2px rgba(60, 64, 67, 0.3), 0px 1px 3px 1px rgba(60, 64, 67, 0.15);\n",
              "      fill: #174EA6;\n",
              "    }\n",
              "\n",
              "    [theme=dark] .colab-df-convert {\n",
              "      background-color: #3B4455;\n",
              "      fill: #D2E3FC;\n",
              "    }\n",
              "\n",
              "    [theme=dark] .colab-df-convert:hover {\n",
              "      background-color: #434B5C;\n",
              "      box-shadow: 0px 1px 3px 1px rgba(0, 0, 0, 0.15);\n",
              "      filter: drop-shadow(0px 1px 2px rgba(0, 0, 0, 0.3));\n",
              "      fill: #FFFFFF;\n",
              "    }\n",
              "  </style>\n",
              "\n",
              "      <script>\n",
              "        const buttonEl =\n",
              "          document.querySelector('#df-40694f04-9a73-4f7d-a768-d590002afc88 button.colab-df-convert');\n",
              "        buttonEl.style.display =\n",
              "          google.colab.kernel.accessAllowed ? 'block' : 'none';\n",
              "\n",
              "        async function convertToInteractive(key) {\n",
              "          const element = document.querySelector('#df-40694f04-9a73-4f7d-a768-d590002afc88');\n",
              "          const dataTable =\n",
              "            await google.colab.kernel.invokeFunction('convertToInteractive',\n",
              "                                                     [key], {});\n",
              "          if (!dataTable) return;\n",
              "\n",
              "          const docLinkHtml = 'Like what you see? Visit the ' +\n",
              "            '<a target=\"_blank\" href=https://colab.research.google.com/notebooks/data_table.ipynb>data table notebook</a>'\n",
              "            + ' to learn more about interactive tables.';\n",
              "          element.innerHTML = '';\n",
              "          dataTable['output_type'] = 'display_data';\n",
              "          await google.colab.output.renderOutput(dataTable, element);\n",
              "          const docLink = document.createElement('div');\n",
              "          docLink.innerHTML = docLinkHtml;\n",
              "          element.appendChild(docLink);\n",
              "        }\n",
              "      </script>\n",
              "    </div>\n",
              "  </div>\n",
              "  "
            ]
          },
          "metadata": {},
          "execution_count": 4
        }
      ]
    },
    {
      "cell_type": "markdown",
      "source": [
        "# **Checking the dataset**"
      ],
      "metadata": {
        "id": "jqc6rqOW9X1-"
      }
    },
    {
      "cell_type": "code",
      "source": [
        "data.info()"
      ],
      "metadata": {
        "colab": {
          "base_uri": "https://localhost:8080/"
        },
        "id": "qy7tpMzs9XOQ",
        "outputId": "fb06afee-0fdd-4c27-e7f5-2e297ddda49e"
      },
      "execution_count": null,
      "outputs": [
        {
          "output_type": "stream",
          "name": "stdout",
          "text": [
            "<class 'pandas.core.frame.DataFrame'>\n",
            "RangeIndex: 541909 entries, 0 to 541908\n",
            "Data columns (total 8 columns):\n",
            " #   Column       Non-Null Count   Dtype  \n",
            "---  ------       --------------   -----  \n",
            " 0   InvoiceNo    541909 non-null  object \n",
            " 1   StockCode    541909 non-null  object \n",
            " 2   Description  540455 non-null  object \n",
            " 3   Quantity     541909 non-null  int64  \n",
            " 4   InvoiceDate  541909 non-null  object \n",
            " 5   UnitPrice    541909 non-null  float64\n",
            " 6   CustomerID   406829 non-null  float64\n",
            " 7   Country      541909 non-null  object \n",
            "dtypes: float64(2), int64(1), object(5)\n",
            "memory usage: 33.1+ MB\n"
          ]
        }
      ]
    },
    {
      "cell_type": "markdown",
      "source": [
        "# **Droping Null Value**"
      ],
      "metadata": {
        "id": "_mcUV6ZY9fM6"
      }
    },
    {
      "cell_type": "code",
      "source": [
        "# Droping null values from the dataset\n",
        "data.dropna(inplace = True)"
      ],
      "metadata": {
        "id": "eSbIIjcP9fkS"
      },
      "execution_count": 7,
      "outputs": []
    },
    {
      "cell_type": "code",
      "source": [
        "data.info()"
      ],
      "metadata": {
        "colab": {
          "base_uri": "https://localhost:8080/"
        },
        "id": "yiRM1aHD9ji5",
        "outputId": "20498f09-8867-4b6b-ab0e-24a3d718d105"
      },
      "execution_count": null,
      "outputs": [
        {
          "output_type": "stream",
          "name": "stdout",
          "text": [
            "<class 'pandas.core.frame.DataFrame'>\n",
            "Int64Index: 406829 entries, 0 to 541908\n",
            "Data columns (total 8 columns):\n",
            " #   Column       Non-Null Count   Dtype  \n",
            "---  ------       --------------   -----  \n",
            " 0   InvoiceNo    406829 non-null  object \n",
            " 1   StockCode    406829 non-null  object \n",
            " 2   Description  406829 non-null  object \n",
            " 3   Quantity     406829 non-null  int64  \n",
            " 4   InvoiceDate  406829 non-null  object \n",
            " 5   UnitPrice    406829 non-null  float64\n",
            " 6   CustomerID   406829 non-null  float64\n",
            " 7   Country      406829 non-null  object \n",
            "dtypes: float64(2), int64(1), object(5)\n",
            "memory usage: 27.9+ MB\n"
          ]
        }
      ]
    },
    {
      "cell_type": "code",
      "source": [
        "data.shape "
      ],
      "metadata": {
        "colab": {
          "base_uri": "https://localhost:8080/"
        },
        "id": "lDFrHE7J9pHb",
        "outputId": "fd36e691-82dc-490e-9abc-a7139171767c"
      },
      "execution_count": null,
      "outputs": [
        {
          "output_type": "execute_result",
          "data": {
            "text/plain": [
              "(406829, 8)"
            ]
          },
          "metadata": {},
          "execution_count": 8
        }
      ]
    },
    {
      "cell_type": "markdown",
      "source": [
        "**The 'InvoiceNo' feature is contain the data starting with C that indicates a cancellation of transaction. So we just to remove that feature. **"
      ],
      "metadata": {
        "id": "fe_qpD349tP1"
      }
    },
    {
      "cell_type": "code",
      "source": [
        "data = data[~data['InvoiceNo'].str.contains('C')]"
      ],
      "metadata": {
        "id": "183Z5W8q9xS2"
      },
      "execution_count": 8,
      "outputs": []
    },
    {
      "cell_type": "code",
      "source": [
        "data.shape "
      ],
      "metadata": {
        "colab": {
          "base_uri": "https://localhost:8080/"
        },
        "id": "yrWDD6oT9_Fu",
        "outputId": "1707bcf2-d40d-4917-c10a-533e795f6104"
      },
      "execution_count": null,
      "outputs": [
        {
          "output_type": "execute_result",
          "data": {
            "text/plain": [
              "(397924, 8)"
            ]
          },
          "metadata": {},
          "execution_count": 10
        }
      ]
    },
    {
      "cell_type": "code",
      "source": [
        "Description_data = data['Description'].value_counts().reset_index()\n",
        "Description_data.rename(columns = {'index' : 'Description Name'}, inplace = True)\n",
        "Description_data.rename(columns = {'Description' : 'Count'}, inplace = True)\n",
        "Description_data.head()"
      ],
      "metadata": {
        "colab": {
          "base_uri": "https://localhost:8080/",
          "height": 206
        },
        "id": "FUm2fpXg-Cj4",
        "outputId": "83254afa-6b95-4e0c-b3b5-c361fdba9010"
      },
      "execution_count": null,
      "outputs": [
        {
          "output_type": "execute_result",
          "data": {
            "text/plain": [
              "                     Description Name  Count\n",
              "0  WHITE HANGING HEART T-LIGHT HOLDER   2028\n",
              "1            REGENCY CAKESTAND 3 TIER   1724\n",
              "2             JUMBO BAG RED RETROSPOT   1618\n",
              "3       ASSORTED COLOUR BIRD ORNAMENT   1408\n",
              "4                       PARTY BUNTING   1397"
            ],
            "text/html": [
              "\n",
              "  <div id=\"df-11aed52e-e5d8-4754-b2c6-5c7b05acaa9f\">\n",
              "    <div class=\"colab-df-container\">\n",
              "      <div>\n",
              "<style scoped>\n",
              "    .dataframe tbody tr th:only-of-type {\n",
              "        vertical-align: middle;\n",
              "    }\n",
              "\n",
              "    .dataframe tbody tr th {\n",
              "        vertical-align: top;\n",
              "    }\n",
              "\n",
              "    .dataframe thead th {\n",
              "        text-align: right;\n",
              "    }\n",
              "</style>\n",
              "<table border=\"1\" class=\"dataframe\">\n",
              "  <thead>\n",
              "    <tr style=\"text-align: right;\">\n",
              "      <th></th>\n",
              "      <th>Description Name</th>\n",
              "      <th>Count</th>\n",
              "    </tr>\n",
              "  </thead>\n",
              "  <tbody>\n",
              "    <tr>\n",
              "      <th>0</th>\n",
              "      <td>WHITE HANGING HEART T-LIGHT HOLDER</td>\n",
              "      <td>2028</td>\n",
              "    </tr>\n",
              "    <tr>\n",
              "      <th>1</th>\n",
              "      <td>REGENCY CAKESTAND 3 TIER</td>\n",
              "      <td>1724</td>\n",
              "    </tr>\n",
              "    <tr>\n",
              "      <th>2</th>\n",
              "      <td>JUMBO BAG RED RETROSPOT</td>\n",
              "      <td>1618</td>\n",
              "    </tr>\n",
              "    <tr>\n",
              "      <th>3</th>\n",
              "      <td>ASSORTED COLOUR BIRD ORNAMENT</td>\n",
              "      <td>1408</td>\n",
              "    </tr>\n",
              "    <tr>\n",
              "      <th>4</th>\n",
              "      <td>PARTY BUNTING</td>\n",
              "      <td>1397</td>\n",
              "    </tr>\n",
              "  </tbody>\n",
              "</table>\n",
              "</div>\n",
              "      <button class=\"colab-df-convert\" onclick=\"convertToInteractive('df-11aed52e-e5d8-4754-b2c6-5c7b05acaa9f')\"\n",
              "              title=\"Convert this dataframe to an interactive table.\"\n",
              "              style=\"display:none;\">\n",
              "        \n",
              "  <svg xmlns=\"http://www.w3.org/2000/svg\" height=\"24px\"viewBox=\"0 0 24 24\"\n",
              "       width=\"24px\">\n",
              "    <path d=\"M0 0h24v24H0V0z\" fill=\"none\"/>\n",
              "    <path d=\"M18.56 5.44l.94 2.06.94-2.06 2.06-.94-2.06-.94-.94-2.06-.94 2.06-2.06.94zm-11 1L8.5 8.5l.94-2.06 2.06-.94-2.06-.94L8.5 2.5l-.94 2.06-2.06.94zm10 10l.94 2.06.94-2.06 2.06-.94-2.06-.94-.94-2.06-.94 2.06-2.06.94z\"/><path d=\"M17.41 7.96l-1.37-1.37c-.4-.4-.92-.59-1.43-.59-.52 0-1.04.2-1.43.59L10.3 9.45l-7.72 7.72c-.78.78-.78 2.05 0 2.83L4 21.41c.39.39.9.59 1.41.59.51 0 1.02-.2 1.41-.59l7.78-7.78 2.81-2.81c.8-.78.8-2.07 0-2.86zM5.41 20L4 18.59l7.72-7.72 1.47 1.35L5.41 20z\"/>\n",
              "  </svg>\n",
              "      </button>\n",
              "      \n",
              "  <style>\n",
              "    .colab-df-container {\n",
              "      display:flex;\n",
              "      flex-wrap:wrap;\n",
              "      gap: 12px;\n",
              "    }\n",
              "\n",
              "    .colab-df-convert {\n",
              "      background-color: #E8F0FE;\n",
              "      border: none;\n",
              "      border-radius: 50%;\n",
              "      cursor: pointer;\n",
              "      display: none;\n",
              "      fill: #1967D2;\n",
              "      height: 32px;\n",
              "      padding: 0 0 0 0;\n",
              "      width: 32px;\n",
              "    }\n",
              "\n",
              "    .colab-df-convert:hover {\n",
              "      background-color: #E2EBFA;\n",
              "      box-shadow: 0px 1px 2px rgba(60, 64, 67, 0.3), 0px 1px 3px 1px rgba(60, 64, 67, 0.15);\n",
              "      fill: #174EA6;\n",
              "    }\n",
              "\n",
              "    [theme=dark] .colab-df-convert {\n",
              "      background-color: #3B4455;\n",
              "      fill: #D2E3FC;\n",
              "    }\n",
              "\n",
              "    [theme=dark] .colab-df-convert:hover {\n",
              "      background-color: #434B5C;\n",
              "      box-shadow: 0px 1px 3px 1px rgba(0, 0, 0, 0.15);\n",
              "      filter: drop-shadow(0px 1px 2px rgba(0, 0, 0, 0.3));\n",
              "      fill: #FFFFFF;\n",
              "    }\n",
              "  </style>\n",
              "\n",
              "      <script>\n",
              "        const buttonEl =\n",
              "          document.querySelector('#df-11aed52e-e5d8-4754-b2c6-5c7b05acaa9f button.colab-df-convert');\n",
              "        buttonEl.style.display =\n",
              "          google.colab.kernel.accessAllowed ? 'block' : 'none';\n",
              "\n",
              "        async function convertToInteractive(key) {\n",
              "          const element = document.querySelector('#df-11aed52e-e5d8-4754-b2c6-5c7b05acaa9f');\n",
              "          const dataTable =\n",
              "            await google.colab.kernel.invokeFunction('convertToInteractive',\n",
              "                                                     [key], {});\n",
              "          if (!dataTable) return;\n",
              "\n",
              "          const docLinkHtml = 'Like what you see? Visit the ' +\n",
              "            '<a target=\"_blank\" href=https://colab.research.google.com/notebooks/data_table.ipynb>data table notebook</a>'\n",
              "            + ' to learn more about interactive tables.';\n",
              "          element.innerHTML = '';\n",
              "          dataTable['output_type'] = 'display_data';\n",
              "          await google.colab.output.renderOutput(dataTable, element);\n",
              "          const docLink = document.createElement('div');\n",
              "          docLink.innerHTML = docLinkHtml;\n",
              "          element.appendChild(docLink);\n",
              "        }\n",
              "      </script>\n",
              "    </div>\n",
              "  </div>\n",
              "  "
            ]
          },
          "metadata": {},
          "execution_count": 11
        }
      ]
    },
    {
      "cell_type": "code",
      "source": [
        "Description_data.tail()"
      ],
      "metadata": {
        "colab": {
          "base_uri": "https://localhost:8080/",
          "height": 206
        },
        "id": "KGSNFP5o-HGF",
        "outputId": "e21d5b33-b89e-4b07-bf8a-7c116c039d6a"
      },
      "execution_count": null,
      "outputs": [
        {
          "output_type": "execute_result",
          "data": {
            "text/plain": [
              "                     Description Name  Count\n",
              "3872      RUBY GLASS CLUSTER EARRINGS      1\n",
              "3873   PINK CHRYSANTHEMUMS ART FLOWER      1\n",
              "3874  72 CAKE CASES VINTAGE CHRISTMAS      1\n",
              "3875     WALL ART , THE MAGIC FOREST       1\n",
              "3876      PAPER CRAFT , LITTLE BIRDIE      1"
            ],
            "text/html": [
              "\n",
              "  <div id=\"df-3af5766c-b02c-42c0-9422-7a87d4717210\">\n",
              "    <div class=\"colab-df-container\">\n",
              "      <div>\n",
              "<style scoped>\n",
              "    .dataframe tbody tr th:only-of-type {\n",
              "        vertical-align: middle;\n",
              "    }\n",
              "\n",
              "    .dataframe tbody tr th {\n",
              "        vertical-align: top;\n",
              "    }\n",
              "\n",
              "    .dataframe thead th {\n",
              "        text-align: right;\n",
              "    }\n",
              "</style>\n",
              "<table border=\"1\" class=\"dataframe\">\n",
              "  <thead>\n",
              "    <tr style=\"text-align: right;\">\n",
              "      <th></th>\n",
              "      <th>Description Name</th>\n",
              "      <th>Count</th>\n",
              "    </tr>\n",
              "  </thead>\n",
              "  <tbody>\n",
              "    <tr>\n",
              "      <th>3872</th>\n",
              "      <td>RUBY GLASS CLUSTER EARRINGS</td>\n",
              "      <td>1</td>\n",
              "    </tr>\n",
              "    <tr>\n",
              "      <th>3873</th>\n",
              "      <td>PINK CHRYSANTHEMUMS ART FLOWER</td>\n",
              "      <td>1</td>\n",
              "    </tr>\n",
              "    <tr>\n",
              "      <th>3874</th>\n",
              "      <td>72 CAKE CASES VINTAGE CHRISTMAS</td>\n",
              "      <td>1</td>\n",
              "    </tr>\n",
              "    <tr>\n",
              "      <th>3875</th>\n",
              "      <td>WALL ART , THE MAGIC FOREST</td>\n",
              "      <td>1</td>\n",
              "    </tr>\n",
              "    <tr>\n",
              "      <th>3876</th>\n",
              "      <td>PAPER CRAFT , LITTLE BIRDIE</td>\n",
              "      <td>1</td>\n",
              "    </tr>\n",
              "  </tbody>\n",
              "</table>\n",
              "</div>\n",
              "      <button class=\"colab-df-convert\" onclick=\"convertToInteractive('df-3af5766c-b02c-42c0-9422-7a87d4717210')\"\n",
              "              title=\"Convert this dataframe to an interactive table.\"\n",
              "              style=\"display:none;\">\n",
              "        \n",
              "  <svg xmlns=\"http://www.w3.org/2000/svg\" height=\"24px\"viewBox=\"0 0 24 24\"\n",
              "       width=\"24px\">\n",
              "    <path d=\"M0 0h24v24H0V0z\" fill=\"none\"/>\n",
              "    <path d=\"M18.56 5.44l.94 2.06.94-2.06 2.06-.94-2.06-.94-.94-2.06-.94 2.06-2.06.94zm-11 1L8.5 8.5l.94-2.06 2.06-.94-2.06-.94L8.5 2.5l-.94 2.06-2.06.94zm10 10l.94 2.06.94-2.06 2.06-.94-2.06-.94-.94-2.06-.94 2.06-2.06.94z\"/><path d=\"M17.41 7.96l-1.37-1.37c-.4-.4-.92-.59-1.43-.59-.52 0-1.04.2-1.43.59L10.3 9.45l-7.72 7.72c-.78.78-.78 2.05 0 2.83L4 21.41c.39.39.9.59 1.41.59.51 0 1.02-.2 1.41-.59l7.78-7.78 2.81-2.81c.8-.78.8-2.07 0-2.86zM5.41 20L4 18.59l7.72-7.72 1.47 1.35L5.41 20z\"/>\n",
              "  </svg>\n",
              "      </button>\n",
              "      \n",
              "  <style>\n",
              "    .colab-df-container {\n",
              "      display:flex;\n",
              "      flex-wrap:wrap;\n",
              "      gap: 12px;\n",
              "    }\n",
              "\n",
              "    .colab-df-convert {\n",
              "      background-color: #E8F0FE;\n",
              "      border: none;\n",
              "      border-radius: 50%;\n",
              "      cursor: pointer;\n",
              "      display: none;\n",
              "      fill: #1967D2;\n",
              "      height: 32px;\n",
              "      padding: 0 0 0 0;\n",
              "      width: 32px;\n",
              "    }\n",
              "\n",
              "    .colab-df-convert:hover {\n",
              "      background-color: #E2EBFA;\n",
              "      box-shadow: 0px 1px 2px rgba(60, 64, 67, 0.3), 0px 1px 3px 1px rgba(60, 64, 67, 0.15);\n",
              "      fill: #174EA6;\n",
              "    }\n",
              "\n",
              "    [theme=dark] .colab-df-convert {\n",
              "      background-color: #3B4455;\n",
              "      fill: #D2E3FC;\n",
              "    }\n",
              "\n",
              "    [theme=dark] .colab-df-convert:hover {\n",
              "      background-color: #434B5C;\n",
              "      box-shadow: 0px 1px 3px 1px rgba(0, 0, 0, 0.15);\n",
              "      filter: drop-shadow(0px 1px 2px rgba(0, 0, 0, 0.3));\n",
              "      fill: #FFFFFF;\n",
              "    }\n",
              "  </style>\n",
              "\n",
              "      <script>\n",
              "        const buttonEl =\n",
              "          document.querySelector('#df-3af5766c-b02c-42c0-9422-7a87d4717210 button.colab-df-convert');\n",
              "        buttonEl.style.display =\n",
              "          google.colab.kernel.accessAllowed ? 'block' : 'none';\n",
              "\n",
              "        async function convertToInteractive(key) {\n",
              "          const element = document.querySelector('#df-3af5766c-b02c-42c0-9422-7a87d4717210');\n",
              "          const dataTable =\n",
              "            await google.colab.kernel.invokeFunction('convertToInteractive',\n",
              "                                                     [key], {});\n",
              "          if (!dataTable) return;\n",
              "\n",
              "          const docLinkHtml = 'Like what you see? Visit the ' +\n",
              "            '<a target=\"_blank\" href=https://colab.research.google.com/notebooks/data_table.ipynb>data table notebook</a>'\n",
              "            + ' to learn more about interactive tables.';\n",
              "          element.innerHTML = '';\n",
              "          dataTable['output_type'] = 'display_data';\n",
              "          await google.colab.output.renderOutput(dataTable, element);\n",
              "          const docLink = document.createElement('div');\n",
              "          docLink.innerHTML = docLinkHtml;\n",
              "          element.appendChild(docLink);\n",
              "        }\n",
              "      </script>\n",
              "    </div>\n",
              "  </div>\n",
              "  "
            ]
          },
          "metadata": {},
          "execution_count": 12
        }
      ]
    },
    {
      "cell_type": "code",
      "source": [
        "plt.figure(figsize=(15,10))\n",
        "plt.title('Top 5 Product Name',fontsize=20)\n",
        "sns.barplot(x='Description Name',y='Count',data=Description_data[:5])"
      ],
      "metadata": {
        "colab": {
          "base_uri": "https://localhost:8080/",
          "height": 649
        },
        "id": "MDqYnHLS-g2_",
        "outputId": "119eab94-45cf-4721-ab05-a43f40ca9287"
      },
      "execution_count": null,
      "outputs": [
        {
          "output_type": "execute_result",
          "data": {
            "text/plain": [
              "<matplotlib.axes._subplots.AxesSubplot at 0x7f8cb060eb90>"
            ]
          },
          "metadata": {},
          "execution_count": 13
        },
        {
          "output_type": "display_data",
          "data": {
            "text/plain": [
              "<Figure size 1080x720 with 1 Axes>"
            ],
            "image/png": "[encoded data removed]"
          },
          "metadata": {
            "needs_background": "light"
          }
        }
      ]
    },
    {
      "cell_type": "markdown",
      "source": [
        "From the above graph we can conclude that this product are among top five selled and most of the customer are purchasing this product, so this is well high in demand."
      ],
      "metadata": {
        "id": "ZDqXo8It-l1_"
      }
    },
    {
      "cell_type": "code",
      "source": [
        "plt.figure(figsize=(18,11))\n",
        "plt.title('Bottom 5 Product Name',fontsize=20)\n",
        "sns.barplot(x='Description Name',y='Count',data=Description_data[-5:])"
      ],
      "metadata": {
        "colab": {
          "base_uri": "https://localhost:8080/",
          "height": 703
        },
        "id": "ahd4hDPT-mWl",
        "outputId": "5479bc76-76f1-4a70-d1a3-f319b1e081bd"
      },
      "execution_count": null,
      "outputs": [
        {
          "output_type": "execute_result",
          "data": {
            "text/plain": [
              "<matplotlib.axes._subplots.AxesSubplot at 0x7f8cb04f01d0>"
            ]
          },
          "metadata": {},
          "execution_count": 14
        },
        {
          "output_type": "display_data",
          "data": {
            "text/plain": [
              "<Figure size 1296x792 with 1 Axes>"
            ],
            "image/png": "[encoded data removed]"
          },
          "metadata": {
            "needs_background": "light"
          }
        }
      ]
    },
    {
      "cell_type": "markdown",
      "source": [
        "From the above graph we can conclude that this product are among bottom five selled and most of the customer are avoiding this product, so this is well not in high demand."
      ],
      "metadata": {
        "id": "4nk1FVp2-0Ha"
      }
    },
    {
      "cell_type": "code",
      "source": [
        "StockCode_data = data['StockCode'].value_counts().reset_index()\n",
        "StockCode_data.rename(columns = {'index' : 'StockCode_Name'}, inplace = True)\n",
        "StockCode_data.rename(columns = {'StockCode' : 'Count'}, inplace = True)\n",
        "StockCode_data.head()"
      ],
      "metadata": {
        "colab": {
          "base_uri": "https://localhost:8080/",
          "height": 206
        },
        "id": "vR3cKDLC-0t7",
        "outputId": "efd42b2a-e63e-4786-c26b-eb2d6f8bd719"
      },
      "execution_count": null,
      "outputs": [
        {
          "output_type": "execute_result",
          "data": {
            "text/plain": [
              "  StockCode_Name  Count\n",
              "0         85123A   2035\n",
              "1          22423   1724\n",
              "2         85099B   1618\n",
              "3          84879   1408\n",
              "4          47566   1397"
            ],
            "text/html": [
              "\n",
              "  <div id=\"df-37b83acd-27bd-4d8a-8476-5a483eb90e8d\">\n",
              "    <div class=\"colab-df-container\">\n",
              "      <div>\n",
              "<style scoped>\n",
              "    .dataframe tbody tr th:only-of-type {\n",
              "        vertical-align: middle;\n",
              "    }\n",
              "\n",
              "    .dataframe tbody tr th {\n",
              "        vertical-align: top;\n",
              "    }\n",
              "\n",
              "    .dataframe thead th {\n",
              "        text-align: right;\n",
              "    }\n",
              "</style>\n",
              "<table border=\"1\" class=\"dataframe\">\n",
              "  <thead>\n",
              "    <tr style=\"text-align: right;\">\n",
              "      <th></th>\n",
              "      <th>StockCode_Name</th>\n",
              "      <th>Count</th>\n",
              "    </tr>\n",
              "  </thead>\n",
              "  <tbody>\n",
              "    <tr>\n",
              "      <th>0</th>\n",
              "      <td>85123A</td>\n",
              "      <td>2035</td>\n",
              "    </tr>\n",
              "    <tr>\n",
              "      <th>1</th>\n",
              "      <td>22423</td>\n",
              "      <td>1724</td>\n",
              "    </tr>\n",
              "    <tr>\n",
              "      <th>2</th>\n",
              "      <td>85099B</td>\n",
              "      <td>1618</td>\n",
              "    </tr>\n",
              "    <tr>\n",
              "      <th>3</th>\n",
              "      <td>84879</td>\n",
              "      <td>1408</td>\n",
              "    </tr>\n",
              "    <tr>\n",
              "      <th>4</th>\n",
              "      <td>47566</td>\n",
              "      <td>1397</td>\n",
              "    </tr>\n",
              "  </tbody>\n",
              "</table>\n",
              "</div>\n",
              "      <button class=\"colab-df-convert\" onclick=\"convertToInteractive('df-37b83acd-27bd-4d8a-8476-5a483eb90e8d')\"\n",
              "              title=\"Convert this dataframe to an interactive table.\"\n",
              "              style=\"display:none;\">\n",
              "        \n",
              "  <svg xmlns=\"http://www.w3.org/2000/svg\" height=\"24px\"viewBox=\"0 0 24 24\"\n",
              "       width=\"24px\">\n",
              "    <path d=\"M0 0h24v24H0V0z\" fill=\"none\"/>\n",
              "    <path d=\"M18.56 5.44l.94 2.06.94-2.06 2.06-.94-2.06-.94-.94-2.06-.94 2.06-2.06.94zm-11 1L8.5 8.5l.94-2.06 2.06-.94-2.06-.94L8.5 2.5l-.94 2.06-2.06.94zm10 10l.94 2.06.94-2.06 2.06-.94-2.06-.94-.94-2.06-.94 2.06-2.06.94z\"/><path d=\"M17.41 7.96l-1.37-1.37c-.4-.4-.92-.59-1.43-.59-.52 0-1.04.2-1.43.59L10.3 9.45l-7.72 7.72c-.78.78-.78 2.05 0 2.83L4 21.41c.39.39.9.59 1.41.59.51 0 1.02-.2 1.41-.59l7.78-7.78 2.81-2.81c.8-.78.8-2.07 0-2.86zM5.41 20L4 18.59l7.72-7.72 1.47 1.35L5.41 20z\"/>\n",
              "  </svg>\n",
              "      </button>\n",
              "      \n",
              "  <style>\n",
              "    .colab-df-container {\n",
              "      display:flex;\n",
              "      flex-wrap:wrap;\n",
              "      gap: 12px;\n",
              "    }\n",
              "\n",
              "    .colab-df-convert {\n",
              "      background-color: #E8F0FE;\n",
              "      border: none;\n",
              "      border-radius: 50%;\n",
              "      cursor: pointer;\n",
              "      display: none;\n",
              "      fill: #1967D2;\n",
              "      height: 32px;\n",
              "      padding: 0 0 0 0;\n",
              "      width: 32px;\n",
              "    }\n",
              "\n",
              "    .colab-df-convert:hover {\n",
              "      background-color: #E2EBFA;\n",
              "      box-shadow: 0px 1px 2px rgba(60, 64, 67, 0.3), 0px 1px 3px 1px rgba(60, 64, 67, 0.15);\n",
              "      fill: #174EA6;\n",
              "    }\n",
              "\n",
              "    [theme=dark] .colab-df-convert {\n",
              "      background-color: #3B4455;\n",
              "      fill: #D2E3FC;\n",
              "    }\n",
              "\n",
              "    [theme=dark] .colab-df-convert:hover {\n",
              "      background-color: #434B5C;\n",
              "      box-shadow: 0px 1px 3px 1px rgba(0, 0, 0, 0.15);\n",
              "      filter: drop-shadow(0px 1px 2px rgba(0, 0, 0, 0.3));\n",
              "      fill: #FFFFFF;\n",
              "    }\n",
              "  </style>\n",
              "\n",
              "      <script>\n",
              "        const buttonEl =\n",
              "          document.querySelector('#df-37b83acd-27bd-4d8a-8476-5a483eb90e8d button.colab-df-convert');\n",
              "        buttonEl.style.display =\n",
              "          google.colab.kernel.accessAllowed ? 'block' : 'none';\n",
              "\n",
              "        async function convertToInteractive(key) {\n",
              "          const element = document.querySelector('#df-37b83acd-27bd-4d8a-8476-5a483eb90e8d');\n",
              "          const dataTable =\n",
              "            await google.colab.kernel.invokeFunction('convertToInteractive',\n",
              "                                                     [key], {});\n",
              "          if (!dataTable) return;\n",
              "\n",
              "          const docLinkHtml = 'Like what you see? Visit the ' +\n",
              "            '<a target=\"_blank\" href=https://colab.research.google.com/notebooks/data_table.ipynb>data table notebook</a>'\n",
              "            + ' to learn more about interactive tables.';\n",
              "          element.innerHTML = '';\n",
              "          dataTable['output_type'] = 'display_data';\n",
              "          await google.colab.output.renderOutput(dataTable, element);\n",
              "          const docLink = document.createElement('div');\n",
              "          docLink.innerHTML = docLinkHtml;\n",
              "          element.appendChild(docLink);\n",
              "        }\n",
              "      </script>\n",
              "    </div>\n",
              "  </div>\n",
              "  "
            ]
          },
          "metadata": {},
          "execution_count": 15
        }
      ]
    },
    {
      "cell_type": "code",
      "source": [
        "StockCode_data.tail()"
      ],
      "metadata": {
        "colab": {
          "base_uri": "https://localhost:8080/",
          "height": 206
        },
        "id": "FnQJNaJt-8k7",
        "outputId": "31b41187-1604-456b-84ca-44614236fee1"
      },
      "execution_count": null,
      "outputs": [
        {
          "output_type": "execute_result",
          "data": {
            "text/plain": [
              "     StockCode_Name  Count\n",
              "3660          90168      1\n",
              "3661          90169      1\n",
              "3662         90202A      1\n",
              "3663          90118      1\n",
              "3664          23843      1"
            ],
            "text/html": [
              "\n",
              "  <div id=\"df-14aa708a-54c7-4d24-b5f3-dd1851f50622\">\n",
              "    <div class=\"colab-df-container\">\n",
              "      <div>\n",
              "<style scoped>\n",
              "    .dataframe tbody tr th:only-of-type {\n",
              "        vertical-align: middle;\n",
              "    }\n",
              "\n",
              "    .dataframe tbody tr th {\n",
              "        vertical-align: top;\n",
              "    }\n",
              "\n",
              "    .dataframe thead th {\n",
              "        text-align: right;\n",
              "    }\n",
              "</style>\n",
              "<table border=\"1\" class=\"dataframe\">\n",
              "  <thead>\n",
              "    <tr style=\"text-align: right;\">\n",
              "      <th></th>\n",
              "      <th>StockCode_Name</th>\n",
              "      <th>Count</th>\n",
              "    </tr>\n",
              "  </thead>\n",
              "  <tbody>\n",
              "    <tr>\n",
              "      <th>3660</th>\n",
              "      <td>90168</td>\n",
              "      <td>1</td>\n",
              "    </tr>\n",
              "    <tr>\n",
              "      <th>3661</th>\n",
              "      <td>90169</td>\n",
              "      <td>1</td>\n",
              "    </tr>\n",
              "    <tr>\n",
              "      <th>3662</th>\n",
              "      <td>90202A</td>\n",
              "      <td>1</td>\n",
              "    </tr>\n",
              "    <tr>\n",
              "      <th>3663</th>\n",
              "      <td>90118</td>\n",
              "      <td>1</td>\n",
              "    </tr>\n",
              "    <tr>\n",
              "      <th>3664</th>\n",
              "      <td>23843</td>\n",
              "      <td>1</td>\n",
              "    </tr>\n",
              "  </tbody>\n",
              "</table>\n",
              "</div>\n",
              "      <button class=\"colab-df-convert\" onclick=\"convertToInteractive('df-14aa708a-54c7-4d24-b5f3-dd1851f50622')\"\n",
              "              title=\"Convert this dataframe to an interactive table.\"\n",
              "              style=\"display:none;\">\n",
              "        \n",
              "  <svg xmlns=\"http://www.w3.org/2000/svg\" height=\"24px\"viewBox=\"0 0 24 24\"\n",
              "       width=\"24px\">\n",
              "    <path d=\"M0 0h24v24H0V0z\" fill=\"none\"/>\n",
              "    <path d=\"M18.56 5.44l.94 2.06.94-2.06 2.06-.94-2.06-.94-.94-2.06-.94 2.06-2.06.94zm-11 1L8.5 8.5l.94-2.06 2.06-.94-2.06-.94L8.5 2.5l-.94 2.06-2.06.94zm10 10l.94 2.06.94-2.06 2.06-.94-2.06-.94-.94-2.06-.94 2.06-2.06.94z\"/><path d=\"M17.41 7.96l-1.37-1.37c-.4-.4-.92-.59-1.43-.59-.52 0-1.04.2-1.43.59L10.3 9.45l-7.72 7.72c-.78.78-.78 2.05 0 2.83L4 21.41c.39.39.9.59 1.41.59.51 0 1.02-.2 1.41-.59l7.78-7.78 2.81-2.81c.8-.78.8-2.07 0-2.86zM5.41 20L4 18.59l7.72-7.72 1.47 1.35L5.41 20z\"/>\n",
              "  </svg>\n",
              "      </button>\n",
              "      \n",
              "  <style>\n",
              "    .colab-df-container {\n",
              "      display:flex;\n",
              "      flex-wrap:wrap;\n",
              "      gap: 12px;\n",
              "    }\n",
              "\n",
              "    .colab-df-convert {\n",
              "      background-color: #E8F0FE;\n",
              "      border: none;\n",
              "      border-radius: 50%;\n",
              "      cursor: pointer;\n",
              "      display: none;\n",
              "      fill: #1967D2;\n",
              "      height: 32px;\n",
              "      padding: 0 0 0 0;\n",
              "      width: 32px;\n",
              "    }\n",
              "\n",
              "    .colab-df-convert:hover {\n",
              "      background-color: #E2EBFA;\n",
              "      box-shadow: 0px 1px 2px rgba(60, 64, 67, 0.3), 0px 1px 3px 1px rgba(60, 64, 67, 0.15);\n",
              "      fill: #174EA6;\n",
              "    }\n",
              "\n",
              "    [theme=dark] .colab-df-convert {\n",
              "      background-color: #3B4455;\n",
              "      fill: #D2E3FC;\n",
              "    }\n",
              "\n",
              "    [theme=dark] .colab-df-convert:hover {\n",
              "      background-color: #434B5C;\n",
              "      box-shadow: 0px 1px 3px 1px rgba(0, 0, 0, 0.15);\n",
              "      filter: drop-shadow(0px 1px 2px rgba(0, 0, 0, 0.3));\n",
              "      fill: #FFFFFF;\n",
              "    }\n",
              "  </style>\n",
              "\n",
              "      <script>\n",
              "        const buttonEl =\n",
              "          document.querySelector('#df-14aa708a-54c7-4d24-b5f3-dd1851f50622 button.colab-df-convert');\n",
              "        buttonEl.style.display =\n",
              "          google.colab.kernel.accessAllowed ? 'block' : 'none';\n",
              "\n",
              "        async function convertToInteractive(key) {\n",
              "          const element = document.querySelector('#df-14aa708a-54c7-4d24-b5f3-dd1851f50622');\n",
              "          const dataTable =\n",
              "            await google.colab.kernel.invokeFunction('convertToInteractive',\n",
              "                                                     [key], {});\n",
              "          if (!dataTable) return;\n",
              "\n",
              "          const docLinkHtml = 'Like what you see? Visit the ' +\n",
              "            '<a target=\"_blank\" href=https://colab.research.google.com/notebooks/data_table.ipynb>data table notebook</a>'\n",
              "            + ' to learn more about interactive tables.';\n",
              "          element.innerHTML = '';\n",
              "          dataTable['output_type'] = 'display_data';\n",
              "          await google.colab.output.renderOutput(dataTable, element);\n",
              "          const docLink = document.createElement('div');\n",
              "          docLink.innerHTML = docLinkHtml;\n",
              "          element.appendChild(docLink);\n",
              "        }\n",
              "      </script>\n",
              "    </div>\n",
              "  </div>\n",
              "  "
            ]
          },
          "metadata": {},
          "execution_count": 16
        }
      ]
    },
    {
      "cell_type": "code",
      "source": [
        "plt.figure(figsize=(15,8))\n",
        "plt.title('Top 5 StockCode_Name',fontsize=20)\n",
        "sns.barplot(x='StockCode_Name',y='Count',data=StockCode_data[:5])"
      ],
      "metadata": {
        "colab": {
          "base_uri": "https://localhost:8080/",
          "height": 540
        },
        "id": "gAOjdbJPAMVW",
        "outputId": "a5b9d582-7117-4151-d6c4-d553d39044a1"
      },
      "execution_count": null,
      "outputs": [
        {
          "output_type": "execute_result",
          "data": {
            "text/plain": [
              "<matplotlib.axes._subplots.AxesSubplot at 0x7f8cb000b890>"
            ]
          },
          "metadata": {},
          "execution_count": 17
        },
        {
          "output_type": "display_data",
          "data": {
            "text/plain": [
              "<Figure size 1080x576 with 1 Axes>"
            ],
            "image/png": "[encoded data removed]"
          },
          "metadata": {
            "needs_background": "light"
          }
        }
      ]
    },
    {
      "cell_type": "code",
      "source": [
        "plt.figure(figsize=(10,8))\n",
        "plt.title('Bottom 5 StockCode_Name',fontsize=20)\n",
        "sns.barplot(x='StockCode_Name',y='Count',data=StockCode_data[-5:])"
      ],
      "metadata": {
        "colab": {
          "base_uri": "https://localhost:8080/",
          "height": 540
        },
        "id": "g-gfsQ0wAUhj",
        "outputId": "3eb0caac-0990-4d6a-da7c-517aeb147f45"
      },
      "execution_count": null,
      "outputs": [
        {
          "output_type": "execute_result",
          "data": {
            "text/plain": [
              "<matplotlib.axes._subplots.AxesSubplot at 0x7f8cb000b190>"
            ]
          },
          "metadata": {},
          "execution_count": 18
        },
        {
          "output_type": "display_data",
          "data": {
            "text/plain": [
              "<Figure size 720x576 with 1 Axes>"
            ],
            "image/png": "[encoded data removed]"
          },
          "metadata": {
            "needs_background": "light"
          }
        }
      ]
    },
    {
      "cell_type": "markdown",
      "source": [
        "# **Country Analysis**"
      ],
      "metadata": {
        "id": "FPxAdpbNArjM"
      }
    },
    {
      "cell_type": "code",
      "source": [
        "Country_data = data['Country'].value_counts().reset_index()\n",
        "Country_data.rename(columns = {'index' : 'Country_Name'}, inplace = True)\n",
        "Country_data.rename(columns = {'Country' : 'Count'}, inplace = True)\n",
        "Country_data.head()"
      ],
      "metadata": {
        "colab": {
          "base_uri": "https://localhost:8080/",
          "height": 206
        },
        "id": "Lpm1fdOfAgvW",
        "outputId": "6a676d5f-2a9b-4484-acbf-514faf35f3a3"
      },
      "execution_count": null,
      "outputs": [
        {
          "output_type": "execute_result",
          "data": {
            "text/plain": [
              "     Country_Name   Count\n",
              "0  United Kingdom  354345\n",
              "1         Germany    9042\n",
              "2          France    8342\n",
              "3            EIRE    7238\n",
              "4           Spain    2485"
            ],
            "text/html": [
              "\n",
              "  <div id=\"df-1c6440f2-739b-4591-a83d-e0afabeb6649\">\n",
              "    <div class=\"colab-df-container\">\n",
              "      <div>\n",
              "<style scoped>\n",
              "    .dataframe tbody tr th:only-of-type {\n",
              "        vertical-align: middle;\n",
              "    }\n",
              "\n",
              "    .dataframe tbody tr th {\n",
              "        vertical-align: top;\n",
              "    }\n",
              "\n",
              "    .dataframe thead th {\n",
              "        text-align: right;\n",
              "    }\n",
              "</style>\n",
              "<table border=\"1\" class=\"dataframe\">\n",
              "  <thead>\n",
              "    <tr style=\"text-align: right;\">\n",
              "      <th></th>\n",
              "      <th>Country_Name</th>\n",
              "      <th>Count</th>\n",
              "    </tr>\n",
              "  </thead>\n",
              "  <tbody>\n",
              "    <tr>\n",
              "      <th>0</th>\n",
              "      <td>United Kingdom</td>\n",
              "      <td>354345</td>\n",
              "    </tr>\n",
              "    <tr>\n",
              "      <th>1</th>\n",
              "      <td>Germany</td>\n",
              "      <td>9042</td>\n",
              "    </tr>\n",
              "    <tr>\n",
              "      <th>2</th>\n",
              "      <td>France</td>\n",
              "      <td>8342</td>\n",
              "    </tr>\n",
              "    <tr>\n",
              "      <th>3</th>\n",
              "      <td>EIRE</td>\n",
              "      <td>7238</td>\n",
              "    </tr>\n",
              "    <tr>\n",
              "      <th>4</th>\n",
              "      <td>Spain</td>\n",
              "      <td>2485</td>\n",
              "    </tr>\n",
              "  </tbody>\n",
              "</table>\n",
              "</div>\n",
              "      <button class=\"colab-df-convert\" onclick=\"convertToInteractive('df-1c6440f2-739b-4591-a83d-e0afabeb6649')\"\n",
              "              title=\"Convert this dataframe to an interactive table.\"\n",
              "              style=\"display:none;\">\n",
              "        \n",
              "  <svg xmlns=\"http://www.w3.org/2000/svg\" height=\"24px\"viewBox=\"0 0 24 24\"\n",
              "       width=\"24px\">\n",
              "    <path d=\"M0 0h24v24H0V0z\" fill=\"none\"/>\n",
              "    <path d=\"M18.56 5.44l.94 2.06.94-2.06 2.06-.94-2.06-.94-.94-2.06-.94 2.06-2.06.94zm-11 1L8.5 8.5l.94-2.06 2.06-.94-2.06-.94L8.5 2.5l-.94 2.06-2.06.94zm10 10l.94 2.06.94-2.06 2.06-.94-2.06-.94-.94-2.06-.94 2.06-2.06.94z\"/><path d=\"M17.41 7.96l-1.37-1.37c-.4-.4-.92-.59-1.43-.59-.52 0-1.04.2-1.43.59L10.3 9.45l-7.72 7.72c-.78.78-.78 2.05 0 2.83L4 21.41c.39.39.9.59 1.41.59.51 0 1.02-.2 1.41-.59l7.78-7.78 2.81-2.81c.8-.78.8-2.07 0-2.86zM5.41 20L4 18.59l7.72-7.72 1.47 1.35L5.41 20z\"/>\n",
              "  </svg>\n",
              "      </button>\n",
              "      \n",
              "  <style>\n",
              "    .colab-df-container {\n",
              "      display:flex;\n",
              "      flex-wrap:wrap;\n",
              "      gap: 12px;\n",
              "    }\n",
              "\n",
              "    .colab-df-convert {\n",
              "      background-color: #E8F0FE;\n",
              "      border: none;\n",
              "      border-radius: 50%;\n",
              "      cursor: pointer;\n",
              "      display: none;\n",
              "      fill: #1967D2;\n",
              "      height: 32px;\n",
              "      padding: 0 0 0 0;\n",
              "      width: 32px;\n",
              "    }\n",
              "\n",
              "    .colab-df-convert:hover {\n",
              "      background-color: #E2EBFA;\n",
              "      box-shadow: 0px 1px 2px rgba(60, 64, 67, 0.3), 0px 1px 3px 1px rgba(60, 64, 67, 0.15);\n",
              "      fill: #174EA6;\n",
              "    }\n",
              "\n",
              "    [theme=dark] .colab-df-convert {\n",
              "      background-color: #3B4455;\n",
              "      fill: #D2E3FC;\n",
              "    }\n",
              "\n",
              "    [theme=dark] .colab-df-convert:hover {\n",
              "      background-color: #434B5C;\n",
              "      box-shadow: 0px 1px 3px 1px rgba(0, 0, 0, 0.15);\n",
              "      filter: drop-shadow(0px 1px 2px rgba(0, 0, 0, 0.3));\n",
              "      fill: #FFFFFF;\n",
              "    }\n",
              "  </style>\n",
              "\n",
              "      <script>\n",
              "        const buttonEl =\n",
              "          document.querySelector('#df-1c6440f2-739b-4591-a83d-e0afabeb6649 button.colab-df-convert');\n",
              "        buttonEl.style.display =\n",
              "          google.colab.kernel.accessAllowed ? 'block' : 'none';\n",
              "\n",
              "        async function convertToInteractive(key) {\n",
              "          const element = document.querySelector('#df-1c6440f2-739b-4591-a83d-e0afabeb6649');\n",
              "          const dataTable =\n",
              "            await google.colab.kernel.invokeFunction('convertToInteractive',\n",
              "                                                     [key], {});\n",
              "          if (!dataTable) return;\n",
              "\n",
              "          const docLinkHtml = 'Like what you see? Visit the ' +\n",
              "            '<a target=\"_blank\" href=https://colab.research.google.com/notebooks/data_table.ipynb>data table notebook</a>'\n",
              "            + ' to learn more about interactive tables.';\n",
              "          element.innerHTML = '';\n",
              "          dataTable['output_type'] = 'display_data';\n",
              "          await google.colab.output.renderOutput(dataTable, element);\n",
              "          const docLink = document.createElement('div');\n",
              "          docLink.innerHTML = docLinkHtml;\n",
              "          element.appendChild(docLink);\n",
              "        }\n",
              "      </script>\n",
              "    </div>\n",
              "  </div>\n",
              "  "
            ]
          },
          "metadata": {},
          "execution_count": 19
        }
      ]
    },
    {
      "cell_type": "code",
      "source": [
        "Country_data.tail()"
      ],
      "metadata": {
        "colab": {
          "base_uri": "https://localhost:8080/",
          "height": 206
        },
        "id": "my8hT0R4A0JL",
        "outputId": "753424e3-9706-48ee-d347-b88e0038a5a8"
      },
      "execution_count": null,
      "outputs": [
        {
          "output_type": "execute_result",
          "data": {
            "text/plain": [
              "      Country_Name  Count\n",
              "32       Lithuania     35\n",
              "33          Brazil     32\n",
              "34  Czech Republic     25\n",
              "35         Bahrain     17\n",
              "36    Saudi Arabia      9"
            ],
            "text/html": [
              "\n",
              "  <div id=\"df-9c96aee8-ab78-40ef-a463-ddb15fe27b91\">\n",
              "    <div class=\"colab-df-container\">\n",
              "      <div>\n",
              "<style scoped>\n",
              "    .dataframe tbody tr th:only-of-type {\n",
              "        vertical-align: middle;\n",
              "    }\n",
              "\n",
              "    .dataframe tbody tr th {\n",
              "        vertical-align: top;\n",
              "    }\n",
              "\n",
              "    .dataframe thead th {\n",
              "        text-align: right;\n",
              "    }\n",
              "</style>\n",
              "<table border=\"1\" class=\"dataframe\">\n",
              "  <thead>\n",
              "    <tr style=\"text-align: right;\">\n",
              "      <th></th>\n",
              "      <th>Country_Name</th>\n",
              "      <th>Count</th>\n",
              "    </tr>\n",
              "  </thead>\n",
              "  <tbody>\n",
              "    <tr>\n",
              "      <th>32</th>\n",
              "      <td>Lithuania</td>\n",
              "      <td>35</td>\n",
              "    </tr>\n",
              "    <tr>\n",
              "      <th>33</th>\n",
              "      <td>Brazil</td>\n",
              "      <td>32</td>\n",
              "    </tr>\n",
              "    <tr>\n",
              "      <th>34</th>\n",
              "      <td>Czech Republic</td>\n",
              "      <td>25</td>\n",
              "    </tr>\n",
              "    <tr>\n",
              "      <th>35</th>\n",
              "      <td>Bahrain</td>\n",
              "      <td>17</td>\n",
              "    </tr>\n",
              "    <tr>\n",
              "      <th>36</th>\n",
              "      <td>Saudi Arabia</td>\n",
              "      <td>9</td>\n",
              "    </tr>\n",
              "  </tbody>\n",
              "</table>\n",
              "</div>\n",
              "      <button class=\"colab-df-convert\" onclick=\"convertToInteractive('df-9c96aee8-ab78-40ef-a463-ddb15fe27b91')\"\n",
              "              title=\"Convert this dataframe to an interactive table.\"\n",
              "              style=\"display:none;\">\n",
              "        \n",
              "  <svg xmlns=\"http://www.w3.org/2000/svg\" height=\"24px\"viewBox=\"0 0 24 24\"\n",
              "       width=\"24px\">\n",
              "    <path d=\"M0 0h24v24H0V0z\" fill=\"none\"/>\n",
              "    <path d=\"M18.56 5.44l.94 2.06.94-2.06 2.06-.94-2.06-.94-.94-2.06-.94 2.06-2.06.94zm-11 1L8.5 8.5l.94-2.06 2.06-.94-2.06-.94L8.5 2.5l-.94 2.06-2.06.94zm10 10l.94 2.06.94-2.06 2.06-.94-2.06-.94-.94-2.06-.94 2.06-2.06.94z\"/><path d=\"M17.41 7.96l-1.37-1.37c-.4-.4-.92-.59-1.43-.59-.52 0-1.04.2-1.43.59L10.3 9.45l-7.72 7.72c-.78.78-.78 2.05 0 2.83L4 21.41c.39.39.9.59 1.41.59.51 0 1.02-.2 1.41-.59l7.78-7.78 2.81-2.81c.8-.78.8-2.07 0-2.86zM5.41 20L4 18.59l7.72-7.72 1.47 1.35L5.41 20z\"/>\n",
              "  </svg>\n",
              "      </button>\n",
              "      \n",
              "  <style>\n",
              "    .colab-df-container {\n",
              "      display:flex;\n",
              "      flex-wrap:wrap;\n",
              "      gap: 12px;\n",
              "    }\n",
              "\n",
              "    .colab-df-convert {\n",
              "      background-color: #E8F0FE;\n",
              "      border: none;\n",
              "      border-radius: 50%;\n",
              "      cursor: pointer;\n",
              "      display: none;\n",
              "      fill: #1967D2;\n",
              "      height: 32px;\n",
              "      padding: 0 0 0 0;\n",
              "      width: 32px;\n",
              "    }\n",
              "\n",
              "    .colab-df-convert:hover {\n",
              "      background-color: #E2EBFA;\n",
              "      box-shadow: 0px 1px 2px rgba(60, 64, 67, 0.3), 0px 1px 3px 1px rgba(60, 64, 67, 0.15);\n",
              "      fill: #174EA6;\n",
              "    }\n",
              "\n",
              "    [theme=dark] .colab-df-convert {\n",
              "      background-color: #3B4455;\n",
              "      fill: #D2E3FC;\n",
              "    }\n",
              "\n",
              "    [theme=dark] .colab-df-convert:hover {\n",
              "      background-color: #434B5C;\n",
              "      box-shadow: 0px 1px 3px 1px rgba(0, 0, 0, 0.15);\n",
              "      filter: drop-shadow(0px 1px 2px rgba(0, 0, 0, 0.3));\n",
              "      fill: #FFFFFF;\n",
              "    }\n",
              "  </style>\n",
              "\n",
              "      <script>\n",
              "        const buttonEl =\n",
              "          document.querySelector('#df-9c96aee8-ab78-40ef-a463-ddb15fe27b91 button.colab-df-convert');\n",
              "        buttonEl.style.display =\n",
              "          google.colab.kernel.accessAllowed ? 'block' : 'none';\n",
              "\n",
              "        async function convertToInteractive(key) {\n",
              "          const element = document.querySelector('#df-9c96aee8-ab78-40ef-a463-ddb15fe27b91');\n",
              "          const dataTable =\n",
              "            await google.colab.kernel.invokeFunction('convertToInteractive',\n",
              "                                                     [key], {});\n",
              "          if (!dataTable) return;\n",
              "\n",
              "          const docLinkHtml = 'Like what you see? Visit the ' +\n",
              "            '<a target=\"_blank\" href=https://colab.research.google.com/notebooks/data_table.ipynb>data table notebook</a>'\n",
              "            + ' to learn more about interactive tables.';\n",
              "          element.innerHTML = '';\n",
              "          dataTable['output_type'] = 'display_data';\n",
              "          await google.colab.output.renderOutput(dataTable, element);\n",
              "          const docLink = document.createElement('div');\n",
              "          docLink.innerHTML = docLinkHtml;\n",
              "          element.appendChild(docLink);\n",
              "        }\n",
              "      </script>\n",
              "    </div>\n",
              "  </div>\n",
              "  "
            ]
          },
          "metadata": {},
          "execution_count": 20
        }
      ]
    },
    {
      "cell_type": "code",
      "source": [
        "plt.figure(figsize=(12,8))\n",
        "plt.title('Top 5 Country_Name',fontsize=20)\n",
        "sns.barplot(x='Country_Name',y='Count',data=Country_data[:5])"
      ],
      "metadata": {
        "colab": {
          "base_uri": "https://localhost:8080/",
          "height": 539
        },
        "id": "V0k20zJDA6C3",
        "outputId": "8492155b-0bdc-4b7a-a74f-2750b85d0adf"
      },
      "execution_count": null,
      "outputs": [
        {
          "output_type": "execute_result",
          "data": {
            "text/plain": [
              "<matplotlib.axes._subplots.AxesSubplot at 0x7f8cafef26d0>"
            ]
          },
          "metadata": {},
          "execution_count": 21
        },
        {
          "output_type": "display_data",
          "data": {
            "text/plain": [
              "<Figure size 864x576 with 1 Axes>"
            ],
            "image/png": "[encoded data removed]"
          },
          "metadata": {
            "needs_background": "light"
          }
        }
      ]
    },
    {
      "cell_type": "markdown",
      "source": [
        "From the above graph we can easily say that country like united kingdom is have higher transaction as compared to other countries, it means that the united kingdom have higher purchasing chance as compared to Germany, France, EIRE and Spain."
      ],
      "metadata": {
        "id": "26WzAvuHBBrx"
      }
    },
    {
      "cell_type": "code",
      "source": [
        "plt.figure(figsize=(12,8))\n",
        "plt.title('Bottom 5 Country_Name',fontsize=20)\n",
        "sns.barplot(x='Country_Name',y='Count',data=Country_data[-5:])"
      ],
      "metadata": {
        "colab": {
          "base_uri": "https://localhost:8080/",
          "height": 539
        },
        "id": "D7MnkHqBBBHQ",
        "outputId": "751601f3-7c99-4e22-f9d8-9362b8c01974"
      },
      "execution_count": null,
      "outputs": [
        {
          "output_type": "execute_result",
          "data": {
            "text/plain": [
              "<matplotlib.axes._subplots.AxesSubplot at 0x7f8caff00690>"
            ]
          },
          "metadata": {},
          "execution_count": 22
        },
        {
          "output_type": "display_data",
          "data": {
            "text/plain": [
              "<Figure size 864x576 with 1 Axes>"
            ],
            "image/png": "[encoded data removed]"
          },
          "metadata": {
            "needs_background": "light"
          }
        }
      ]
    },
    {
      "cell_type": "markdown",
      "source": [
        "The Saudi Arabia has the lowest purchasing history, so we don't will focus more on this five country for analyse the customer."
      ],
      "metadata": {
        "id": "cH-gmOLABLid"
      }
    },
    {
      "cell_type": "markdown",
      "source": [
        "# **Feature Engineering**"
      ],
      "metadata": {
        "id": "5bgIBXuEEEXi"
      }
    },
    {
      "cell_type": "code",
      "source": [
        "data['InvoiceDate'] = pd.to_datetime(data['InvoiceDate'], infer_datetime_format=True)"
      ],
      "metadata": {
        "id": "f6_vRqKyBMrD"
      },
      "execution_count": 9,
      "outputs": []
    },
    {
      "cell_type": "code",
      "source": [
        "data['year'] = data['InvoiceDate'].dt.year\n",
        "data['month'] = data['InvoiceDate'].dt.month\n",
        "data['month name'] = data['InvoiceDate'].dt.month_name()\n",
        "data['day'] = data['InvoiceDate'].dt.day\n",
        "data['day name'] = data['InvoiceDate'].dt.day_name()\n",
        "data['Hour'] = data['InvoiceDate'].dt.hour\n",
        "data['Minute'] = data['InvoiceDate'].dt.minute"
      ],
      "metadata": {
        "id": "2NWQkPEPEfyp"
      },
      "execution_count": 10,
      "outputs": []
    },
    {
      "cell_type": "code",
      "source": [
        "data.head()"
      ],
      "metadata": {
        "colab": {
          "base_uri": "https://localhost:8080/",
          "height": 562
        },
        "id": "D6PaHEeQEjA7",
        "outputId": "2e493f00-7aa6-4e78-ded5-e45c3e665968"
      },
      "execution_count": null,
      "outputs": [
        {
          "output_type": "execute_result",
          "data": {
            "text/plain": [
              "  InvoiceNo StockCode                          Description  Quantity  \\\n",
              "0    536365    85123A   WHITE HANGING HEART T-LIGHT HOLDER         6   \n",
              "1    536365     71053                  WHITE METAL LANTERN         6   \n",
              "2    536365    84406B       CREAM CUPID HEARTS COAT HANGER         8   \n",
              "3    536365    84029G  KNITTED UNION FLAG HOT WATER BOTTLE         6   \n",
              "4    536365    84029E       RED WOOLLY HOTTIE WHITE HEART.         6   \n",
              "\n",
              "          InvoiceDate  UnitPrice  CustomerID         Country  year  month  \\\n",
              "0 2010-12-01 08:26:00       2.55     17850.0  United Kingdom  2010     12   \n",
              "1 2010-12-01 08:26:00       3.39     17850.0  United Kingdom  2010     12   \n",
              "2 2010-12-01 08:26:00       2.75     17850.0  United Kingdom  2010     12   \n",
              "3 2010-12-01 08:26:00       3.39     17850.0  United Kingdom  2010     12   \n",
              "4 2010-12-01 08:26:00       3.39     17850.0  United Kingdom  2010     12   \n",
              "\n",
              "  month name  day   day name  Hour  Minute  \n",
              "0   December    1  Wednesday     8      26  \n",
              "1   December    1  Wednesday     8      26  \n",
              "2   December    1  Wednesday     8      26  \n",
              "3   December    1  Wednesday     8      26  \n",
              "4   December    1  Wednesday     8      26  "
            ],
            "text/html": [
              "\n",
              "  <div id=\"df-4ed5accc-4af9-48b2-8868-aac425bbbda6\">\n",
              "    <div class=\"colab-df-container\">\n",
              "      <div>\n",
              "<style scoped>\n",
              "    .dataframe tbody tr th:only-of-type {\n",
              "        vertical-align: middle;\n",
              "    }\n",
              "\n",
              "    .dataframe tbody tr th {\n",
              "        vertical-align: top;\n",
              "    }\n",
              "\n",
              "    .dataframe thead th {\n",
              "        text-align: right;\n",
              "    }\n",
              "</style>\n",
              "<table border=\"1\" class=\"dataframe\">\n",
              "  <thead>\n",
              "    <tr style=\"text-align: right;\">\n",
              "      <th></th>\n",
              "      <th>InvoiceNo</th>\n",
              "      <th>StockCode</th>\n",
              "      <th>Description</th>\n",
              "      <th>Quantity</th>\n",
              "      <th>InvoiceDate</th>\n",
              "      <th>UnitPrice</th>\n",
              "      <th>CustomerID</th>\n",
              "      <th>Country</th>\n",
              "      <th>year</th>\n",
              "      <th>month</th>\n",
              "      <th>month name</th>\n",
              "      <th>day</th>\n",
              "      <th>day name</th>\n",
              "      <th>Hour</th>\n",
              "      <th>Minute</th>\n",
              "    </tr>\n",
              "  </thead>\n",
              "  <tbody>\n",
              "    <tr>\n",
              "      <th>0</th>\n",
              "      <td>536365</td>\n",
              "      <td>85123A</td>\n",
              "      <td>WHITE HANGING HEART T-LIGHT HOLDER</td>\n",
              "      <td>6</td>\n",
              "      <td>2010-12-01 08:26:00</td>\n",
              "      <td>2.55</td>\n",
              "      <td>17850.0</td>\n",
              "      <td>United Kingdom</td>\n",
              "      <td>2010</td>\n",
              "      <td>12</td>\n",
              "      <td>December</td>\n",
              "      <td>1</td>\n",
              "      <td>Wednesday</td>\n",
              "      <td>8</td>\n",
              "      <td>26</td>\n",
              "    </tr>\n",
              "    <tr>\n",
              "      <th>1</th>\n",
              "      <td>536365</td>\n",
              "      <td>71053</td>\n",
              "      <td>WHITE METAL LANTERN</td>\n",
              "      <td>6</td>\n",
              "      <td>2010-12-01 08:26:00</td>\n",
              "      <td>3.39</td>\n",
              "      <td>17850.0</td>\n",
              "      <td>United Kingdom</td>\n",
              "      <td>2010</td>\n",
              "      <td>12</td>\n",
              "      <td>December</td>\n",
              "      <td>1</td>\n",
              "      <td>Wednesday</td>\n",
              "      <td>8</td>\n",
              "      <td>26</td>\n",
              "    </tr>\n",
              "    <tr>\n",
              "      <th>2</th>\n",
              "      <td>536365</td>\n",
              "      <td>84406B</td>\n",
              "      <td>CREAM CUPID HEARTS COAT HANGER</td>\n",
              "      <td>8</td>\n",
              "      <td>2010-12-01 08:26:00</td>\n",
              "      <td>2.75</td>\n",
              "      <td>17850.0</td>\n",
              "      <td>United Kingdom</td>\n",
              "      <td>2010</td>\n",
              "      <td>12</td>\n",
              "      <td>December</td>\n",
              "      <td>1</td>\n",
              "      <td>Wednesday</td>\n",
              "      <td>8</td>\n",
              "      <td>26</td>\n",
              "    </tr>\n",
              "    <tr>\n",
              "      <th>3</th>\n",
              "      <td>536365</td>\n",
              "      <td>84029G</td>\n",
              "      <td>KNITTED UNION FLAG HOT WATER BOTTLE</td>\n",
              "      <td>6</td>\n",
              "      <td>2010-12-01 08:26:00</td>\n",
              "      <td>3.39</td>\n",
              "      <td>17850.0</td>\n",
              "      <td>United Kingdom</td>\n",
              "      <td>2010</td>\n",
              "      <td>12</td>\n",
              "      <td>December</td>\n",
              "      <td>1</td>\n",
              "      <td>Wednesday</td>\n",
              "      <td>8</td>\n",
              "      <td>26</td>\n",
              "    </tr>\n",
              "    <tr>\n",
              "      <th>4</th>\n",
              "      <td>536365</td>\n",
              "      <td>84029E</td>\n",
              "      <td>RED WOOLLY HOTTIE WHITE HEART.</td>\n",
              "      <td>6</td>\n",
              "      <td>2010-12-01 08:26:00</td>\n",
              "      <td>3.39</td>\n",
              "      <td>17850.0</td>\n",
              "      <td>United Kingdom</td>\n",
              "      <td>2010</td>\n",
              "      <td>12</td>\n",
              "      <td>December</td>\n",
              "      <td>1</td>\n",
              "      <td>Wednesday</td>\n",
              "      <td>8</td>\n",
              "      <td>26</td>\n",
              "    </tr>\n",
              "  </tbody>\n",
              "</table>\n",
              "</div>\n",
              "      <button class=\"colab-df-convert\" onclick=\"convertToInteractive('df-4ed5accc-4af9-48b2-8868-aac425bbbda6')\"\n",
              "              title=\"Convert this dataframe to an interactive table.\"\n",
              "              style=\"display:none;\">\n",
              "        \n",
              "  <svg xmlns=\"http://www.w3.org/2000/svg\" height=\"24px\"viewBox=\"0 0 24 24\"\n",
              "       width=\"24px\">\n",
              "    <path d=\"M0 0h24v24H0V0z\" fill=\"none\"/>\n",
              "    <path d=\"M18.56 5.44l.94 2.06.94-2.06 2.06-.94-2.06-.94-.94-2.06-.94 2.06-2.06.94zm-11 1L8.5 8.5l.94-2.06 2.06-.94-2.06-.94L8.5 2.5l-.94 2.06-2.06.94zm10 10l.94 2.06.94-2.06 2.06-.94-2.06-.94-.94-2.06-.94 2.06-2.06.94z\"/><path d=\"M17.41 7.96l-1.37-1.37c-.4-.4-.92-.59-1.43-.59-.52 0-1.04.2-1.43.59L10.3 9.45l-7.72 7.72c-.78.78-.78 2.05 0 2.83L4 21.41c.39.39.9.59 1.41.59.51 0 1.02-.2 1.41-.59l7.78-7.78 2.81-2.81c.8-.78.8-2.07 0-2.86zM5.41 20L4 18.59l7.72-7.72 1.47 1.35L5.41 20z\"/>\n",
              "  </svg>\n",
              "      </button>\n",
              "      \n",
              "  <style>\n",
              "    .colab-df-container {\n",
              "      display:flex;\n",
              "      flex-wrap:wrap;\n",
              "      gap: 12px;\n",
              "    }\n",
              "\n",
              "    .colab-df-convert {\n",
              "      background-color: #E8F0FE;\n",
              "      border: none;\n",
              "      border-radius: 50%;\n",
              "      cursor: pointer;\n",
              "      display: none;\n",
              "      fill: #1967D2;\n",
              "      height: 32px;\n",
              "      padding: 0 0 0 0;\n",
              "      width: 32px;\n",
              "    }\n",
              "\n",
              "    .colab-df-convert:hover {\n",
              "      background-color: #E2EBFA;\n",
              "      box-shadow: 0px 1px 2px rgba(60, 64, 67, 0.3), 0px 1px 3px 1px rgba(60, 64, 67, 0.15);\n",
              "      fill: #174EA6;\n",
              "    }\n",
              "\n",
              "    [theme=dark] .colab-df-convert {\n",
              "      background-color: #3B4455;\n",
              "      fill: #D2E3FC;\n",
              "    }\n",
              "\n",
              "    [theme=dark] .colab-df-convert:hover {\n",
              "      background-color: #434B5C;\n",
              "      box-shadow: 0px 1px 3px 1px rgba(0, 0, 0, 0.15);\n",
              "      filter: drop-shadow(0px 1px 2px rgba(0, 0, 0, 0.3));\n",
              "      fill: #FFFFFF;\n",
              "    }\n",
              "  </style>\n",
              "\n",
              "      <script>\n",
              "        const buttonEl =\n",
              "          document.querySelector('#df-4ed5accc-4af9-48b2-8868-aac425bbbda6 button.colab-df-convert');\n",
              "        buttonEl.style.display =\n",
              "          google.colab.kernel.accessAllowed ? 'block' : 'none';\n",
              "\n",
              "        async function convertToInteractive(key) {\n",
              "          const element = document.querySelector('#df-4ed5accc-4af9-48b2-8868-aac425bbbda6');\n",
              "          const dataTable =\n",
              "            await google.colab.kernel.invokeFunction('convertToInteractive',\n",
              "                                                     [key], {});\n",
              "          if (!dataTable) return;\n",
              "\n",
              "          const docLinkHtml = 'Like what you see? Visit the ' +\n",
              "            '<a target=\"_blank\" href=https://colab.research.google.com/notebooks/data_table.ipynb>data table notebook</a>'\n",
              "            + ' to learn more about interactive tables.';\n",
              "          element.innerHTML = '';\n",
              "          dataTable['output_type'] = 'display_data';\n",
              "          await google.colab.output.renderOutput(dataTable, element);\n",
              "          const docLink = document.createElement('div');\n",
              "          docLink.innerHTML = docLinkHtml;\n",
              "          element.appendChild(docLink);\n",
              "        }\n",
              "      </script>\n",
              "    </div>\n",
              "  </div>\n",
              "  "
            ]
          },
          "metadata": {},
          "execution_count": 8
        }
      ]
    },
    {
      "cell_type": "markdown",
      "source": [
        "# **Transaction Per Day**"
      ],
      "metadata": {
        "id": "UZThAZvgEndu"
      }
    },
    {
      "cell_type": "code",
      "source": [
        "day = data['day name'].value_counts().reset_index()\n",
        "day.rename(columns = {'index' : 'Day'}, inplace = True)\n",
        "day.rename(columns = {'day name' : 'Count'}, inplace = True)\n",
        "day"
      ],
      "metadata": {
        "colab": {
          "base_uri": "https://localhost:8080/",
          "height": 237
        },
        "id": "xtWj_g5xEn1C",
        "outputId": "a30a1348-6161-456f-de08-6f6c99107a20"
      },
      "execution_count": null,
      "outputs": [
        {
          "output_type": "execute_result",
          "data": {
            "text/plain": [
              "         Day  Count\n",
              "0   Thursday  80052\n",
              "1  Wednesday  68888\n",
              "2    Tuesday  66476\n",
              "3     Monday  64899\n",
              "4     Sunday  62775\n",
              "5     Friday  54834"
            ],
            "text/html": [
              "\n",
              "  <div id=\"df-36f1ff6a-54ae-47fb-94a8-a0aaffccd099\">\n",
              "    <div class=\"colab-df-container\">\n",
              "      <div>\n",
              "<style scoped>\n",
              "    .dataframe tbody tr th:only-of-type {\n",
              "        vertical-align: middle;\n",
              "    }\n",
              "\n",
              "    .dataframe tbody tr th {\n",
              "        vertical-align: top;\n",
              "    }\n",
              "\n",
              "    .dataframe thead th {\n",
              "        text-align: right;\n",
              "    }\n",
              "</style>\n",
              "<table border=\"1\" class=\"dataframe\">\n",
              "  <thead>\n",
              "    <tr style=\"text-align: right;\">\n",
              "      <th></th>\n",
              "      <th>Day</th>\n",
              "      <th>Count</th>\n",
              "    </tr>\n",
              "  </thead>\n",
              "  <tbody>\n",
              "    <tr>\n",
              "      <th>0</th>\n",
              "      <td>Thursday</td>\n",
              "      <td>80052</td>\n",
              "    </tr>\n",
              "    <tr>\n",
              "      <th>1</th>\n",
              "      <td>Wednesday</td>\n",
              "      <td>68888</td>\n",
              "    </tr>\n",
              "    <tr>\n",
              "      <th>2</th>\n",
              "      <td>Tuesday</td>\n",
              "      <td>66476</td>\n",
              "    </tr>\n",
              "    <tr>\n",
              "      <th>3</th>\n",
              "      <td>Monday</td>\n",
              "      <td>64899</td>\n",
              "    </tr>\n",
              "    <tr>\n",
              "      <th>4</th>\n",
              "      <td>Sunday</td>\n",
              "      <td>62775</td>\n",
              "    </tr>\n",
              "    <tr>\n",
              "      <th>5</th>\n",
              "      <td>Friday</td>\n",
              "      <td>54834</td>\n",
              "    </tr>\n",
              "  </tbody>\n",
              "</table>\n",
              "</div>\n",
              "      <button class=\"colab-df-convert\" onclick=\"convertToInteractive('df-36f1ff6a-54ae-47fb-94a8-a0aaffccd099')\"\n",
              "              title=\"Convert this dataframe to an interactive table.\"\n",
              "              style=\"display:none;\">\n",
              "        \n",
              "  <svg xmlns=\"http://www.w3.org/2000/svg\" height=\"24px\"viewBox=\"0 0 24 24\"\n",
              "       width=\"24px\">\n",
              "    <path d=\"M0 0h24v24H0V0z\" fill=\"none\"/>\n",
              "    <path d=\"M18.56 5.44l.94 2.06.94-2.06 2.06-.94-2.06-.94-.94-2.06-.94 2.06-2.06.94zm-11 1L8.5 8.5l.94-2.06 2.06-.94-2.06-.94L8.5 2.5l-.94 2.06-2.06.94zm10 10l.94 2.06.94-2.06 2.06-.94-2.06-.94-.94-2.06-.94 2.06-2.06.94z\"/><path d=\"M17.41 7.96l-1.37-1.37c-.4-.4-.92-.59-1.43-.59-.52 0-1.04.2-1.43.59L10.3 9.45l-7.72 7.72c-.78.78-.78 2.05 0 2.83L4 21.41c.39.39.9.59 1.41.59.51 0 1.02-.2 1.41-.59l7.78-7.78 2.81-2.81c.8-.78.8-2.07 0-2.86zM5.41 20L4 18.59l7.72-7.72 1.47 1.35L5.41 20z\"/>\n",
              "  </svg>\n",
              "      </button>\n",
              "      \n",
              "  <style>\n",
              "    .colab-df-container {\n",
              "      display:flex;\n",
              "      flex-wrap:wrap;\n",
              "      gap: 12px;\n",
              "    }\n",
              "\n",
              "    .colab-df-convert {\n",
              "      background-color: #E8F0FE;\n",
              "      border: none;\n",
              "      border-radius: 50%;\n",
              "      cursor: pointer;\n",
              "      display: none;\n",
              "      fill: #1967D2;\n",
              "      height: 32px;\n",
              "      padding: 0 0 0 0;\n",
              "      width: 32px;\n",
              "    }\n",
              "\n",
              "    .colab-df-convert:hover {\n",
              "      background-color: #E2EBFA;\n",
              "      box-shadow: 0px 1px 2px rgba(60, 64, 67, 0.3), 0px 1px 3px 1px rgba(60, 64, 67, 0.15);\n",
              "      fill: #174EA6;\n",
              "    }\n",
              "\n",
              "    [theme=dark] .colab-df-convert {\n",
              "      background-color: #3B4455;\n",
              "      fill: #D2E3FC;\n",
              "    }\n",
              "\n",
              "    [theme=dark] .colab-df-convert:hover {\n",
              "      background-color: #434B5C;\n",
              "      box-shadow: 0px 1px 3px 1px rgba(0, 0, 0, 0.15);\n",
              "      filter: drop-shadow(0px 1px 2px rgba(0, 0, 0, 0.3));\n",
              "      fill: #FFFFFF;\n",
              "    }\n",
              "  </style>\n",
              "\n",
              "      <script>\n",
              "        const buttonEl =\n",
              "          document.querySelector('#df-36f1ff6a-54ae-47fb-94a8-a0aaffccd099 button.colab-df-convert');\n",
              "        buttonEl.style.display =\n",
              "          google.colab.kernel.accessAllowed ? 'block' : 'none';\n",
              "\n",
              "        async function convertToInteractive(key) {\n",
              "          const element = document.querySelector('#df-36f1ff6a-54ae-47fb-94a8-a0aaffccd099');\n",
              "          const dataTable =\n",
              "            await google.colab.kernel.invokeFunction('convertToInteractive',\n",
              "                                                     [key], {});\n",
              "          if (!dataTable) return;\n",
              "\n",
              "          const docLinkHtml = 'Like what you see? Visit the ' +\n",
              "            '<a target=\"_blank\" href=https://colab.research.google.com/notebooks/data_table.ipynb>data table notebook</a>'\n",
              "            + ' to learn more about interactive tables.';\n",
              "          element.innerHTML = '';\n",
              "          dataTable['output_type'] = 'display_data';\n",
              "          await google.colab.output.renderOutput(dataTable, element);\n",
              "          const docLink = document.createElement('div');\n",
              "          docLink.innerHTML = docLinkHtml;\n",
              "          element.appendChild(docLink);\n",
              "        }\n",
              "      </script>\n",
              "    </div>\n",
              "  </div>\n",
              "  "
            ]
          },
          "metadata": {},
          "execution_count": 10
        }
      ]
    },
    {
      "cell_type": "code",
      "source": [
        "plt.figure(figsize=(10,8))\n",
        "plt.title('Transaction/Day')\n",
        "sns.barplot(x='Day',y='Count',data=day)"
      ],
      "metadata": {
        "colab": {
          "base_uri": "https://localhost:8080/",
          "height": 535
        },
        "id": "lHEkihlNEuu6",
        "outputId": "df3be569-ef2d-473d-b418-3e33a79f1ed1"
      },
      "execution_count": null,
      "outputs": [
        {
          "output_type": "execute_result",
          "data": {
            "text/plain": [
              "<matplotlib.axes._subplots.AxesSubplot at 0x7efdd66025d0>"
            ]
          },
          "metadata": {},
          "execution_count": 11
        },
        {
          "output_type": "display_data",
          "data": {
            "text/plain": [
              "<Figure size 720x576 with 1 Axes>"
            ],
            "image/png": "[encoded data removed]"
          },
          "metadata": {
            "needs_background": "light"
          }
        }
      ]
    },
    {
      "cell_type": "markdown",
      "source": [
        "From the above graph we can easily conclude that on Thursday the transaction is high as compared to the other day, probabibly the customers are free on this day and there is less transaction for Friday."
      ],
      "metadata": {
        "id": "5mo9N0vEEyQC"
      }
    },
    {
      "cell_type": "markdown",
      "source": [
        "# **Transaction Per Month**"
      ],
      "metadata": {
        "id": "PveykbkwE4Ix"
      }
    },
    {
      "cell_type": "code",
      "source": [
        "month = data['month name'].value_counts().reset_index()\n",
        "month.rename(columns = {'index' : 'Months'}, inplace = True)\n",
        "month.rename(columns = {'month name' : 'Count'}, inplace = True)\n",
        "month"
      ],
      "metadata": {
        "colab": {
          "base_uri": "https://localhost:8080/",
          "height": 426
        },
        "id": "u3x9CHavEzcq",
        "outputId": "cf54f745-d1f0-49d1-e9cd-2b50a111abd9"
      },
      "execution_count": null,
      "outputs": [
        {
          "output_type": "execute_result",
          "data": {
            "text/plain": [
              "       Months  Count\n",
              "0    November  64545\n",
              "1     October  49557\n",
              "2    December  43464\n",
              "3   September  40030\n",
              "4         May  28322\n",
              "5        June  27185\n",
              "6       March  27177\n",
              "7      August  27013\n",
              "8        July  26827\n",
              "9       April  22644\n",
              "10    January  21232\n",
              "11   February  19928"
            ],
            "text/html": [
              "\n",
              "  <div id=\"df-907a35c6-0003-4918-8e0d-1e450b21f16c\">\n",
              "    <div class=\"colab-df-container\">\n",
              "      <div>\n",
              "<style scoped>\n",
              "    .dataframe tbody tr th:only-of-type {\n",
              "        vertical-align: middle;\n",
              "    }\n",
              "\n",
              "    .dataframe tbody tr th {\n",
              "        vertical-align: top;\n",
              "    }\n",
              "\n",
              "    .dataframe thead th {\n",
              "        text-align: right;\n",
              "    }\n",
              "</style>\n",
              "<table border=\"1\" class=\"dataframe\">\n",
              "  <thead>\n",
              "    <tr style=\"text-align: right;\">\n",
              "      <th></th>\n",
              "      <th>Months</th>\n",
              "      <th>Count</th>\n",
              "    </tr>\n",
              "  </thead>\n",
              "  <tbody>\n",
              "    <tr>\n",
              "      <th>0</th>\n",
              "      <td>November</td>\n",
              "      <td>64545</td>\n",
              "    </tr>\n",
              "    <tr>\n",
              "      <th>1</th>\n",
              "      <td>October</td>\n",
              "      <td>49557</td>\n",
              "    </tr>\n",
              "    <tr>\n",
              "      <th>2</th>\n",
              "      <td>December</td>\n",
              "      <td>43464</td>\n",
              "    </tr>\n",
              "    <tr>\n",
              "      <th>3</th>\n",
              "      <td>September</td>\n",
              "      <td>40030</td>\n",
              "    </tr>\n",
              "    <tr>\n",
              "      <th>4</th>\n",
              "      <td>May</td>\n",
              "      <td>28322</td>\n",
              "    </tr>\n",
              "    <tr>\n",
              "      <th>5</th>\n",
              "      <td>June</td>\n",
              "      <td>27185</td>\n",
              "    </tr>\n",
              "    <tr>\n",
              "      <th>6</th>\n",
              "      <td>March</td>\n",
              "      <td>27177</td>\n",
              "    </tr>\n",
              "    <tr>\n",
              "      <th>7</th>\n",
              "      <td>August</td>\n",
              "      <td>27013</td>\n",
              "    </tr>\n",
              "    <tr>\n",
              "      <th>8</th>\n",
              "      <td>July</td>\n",
              "      <td>26827</td>\n",
              "    </tr>\n",
              "    <tr>\n",
              "      <th>9</th>\n",
              "      <td>April</td>\n",
              "      <td>22644</td>\n",
              "    </tr>\n",
              "    <tr>\n",
              "      <th>10</th>\n",
              "      <td>January</td>\n",
              "      <td>21232</td>\n",
              "    </tr>\n",
              "    <tr>\n",
              "      <th>11</th>\n",
              "      <td>February</td>\n",
              "      <td>19928</td>\n",
              "    </tr>\n",
              "  </tbody>\n",
              "</table>\n",
              "</div>\n",
              "      <button class=\"colab-df-convert\" onclick=\"convertToInteractive('df-907a35c6-0003-4918-8e0d-1e450b21f16c')\"\n",
              "              title=\"Convert this dataframe to an interactive table.\"\n",
              "              style=\"display:none;\">\n",
              "        \n",
              "  <svg xmlns=\"http://www.w3.org/2000/svg\" height=\"24px\"viewBox=\"0 0 24 24\"\n",
              "       width=\"24px\">\n",
              "    <path d=\"M0 0h24v24H0V0z\" fill=\"none\"/>\n",
              "    <path d=\"M18.56 5.44l.94 2.06.94-2.06 2.06-.94-2.06-.94-.94-2.06-.94 2.06-2.06.94zm-11 1L8.5 8.5l.94-2.06 2.06-.94-2.06-.94L8.5 2.5l-.94 2.06-2.06.94zm10 10l.94 2.06.94-2.06 2.06-.94-2.06-.94-.94-2.06-.94 2.06-2.06.94z\"/><path d=\"M17.41 7.96l-1.37-1.37c-.4-.4-.92-.59-1.43-.59-.52 0-1.04.2-1.43.59L10.3 9.45l-7.72 7.72c-.78.78-.78 2.05 0 2.83L4 21.41c.39.39.9.59 1.41.59.51 0 1.02-.2 1.41-.59l7.78-7.78 2.81-2.81c.8-.78.8-2.07 0-2.86zM5.41 20L4 18.59l7.72-7.72 1.47 1.35L5.41 20z\"/>\n",
              "  </svg>\n",
              "      </button>\n",
              "      \n",
              "  <style>\n",
              "    .colab-df-container {\n",
              "      display:flex;\n",
              "      flex-wrap:wrap;\n",
              "      gap: 12px;\n",
              "    }\n",
              "\n",
              "    .colab-df-convert {\n",
              "      background-color: #E8F0FE;\n",
              "      border: none;\n",
              "      border-radius: 50%;\n",
              "      cursor: pointer;\n",
              "      display: none;\n",
              "      fill: #1967D2;\n",
              "      height: 32px;\n",
              "      padding: 0 0 0 0;\n",
              "      width: 32px;\n",
              "    }\n",
              "\n",
              "    .colab-df-convert:hover {\n",
              "      background-color: #E2EBFA;\n",
              "      box-shadow: 0px 1px 2px rgba(60, 64, 67, 0.3), 0px 1px 3px 1px rgba(60, 64, 67, 0.15);\n",
              "      fill: #174EA6;\n",
              "    }\n",
              "\n",
              "    [theme=dark] .colab-df-convert {\n",
              "      background-color: #3B4455;\n",
              "      fill: #D2E3FC;\n",
              "    }\n",
              "\n",
              "    [theme=dark] .colab-df-convert:hover {\n",
              "      background-color: #434B5C;\n",
              "      box-shadow: 0px 1px 3px 1px rgba(0, 0, 0, 0.15);\n",
              "      filter: drop-shadow(0px 1px 2px rgba(0, 0, 0, 0.3));\n",
              "      fill: #FFFFFF;\n",
              "    }\n",
              "  </style>\n",
              "\n",
              "      <script>\n",
              "        const buttonEl =\n",
              "          document.querySelector('#df-907a35c6-0003-4918-8e0d-1e450b21f16c button.colab-df-convert');\n",
              "        buttonEl.style.display =\n",
              "          google.colab.kernel.accessAllowed ? 'block' : 'none';\n",
              "\n",
              "        async function convertToInteractive(key) {\n",
              "          const element = document.querySelector('#df-907a35c6-0003-4918-8e0d-1e450b21f16c');\n",
              "          const dataTable =\n",
              "            await google.colab.kernel.invokeFunction('convertToInteractive',\n",
              "                                                     [key], {});\n",
              "          if (!dataTable) return;\n",
              "\n",
              "          const docLinkHtml = 'Like what you see? Visit the ' +\n",
              "            '<a target=\"_blank\" href=https://colab.research.google.com/notebooks/data_table.ipynb>data table notebook</a>'\n",
              "            + ' to learn more about interactive tables.';\n",
              "          element.innerHTML = '';\n",
              "          dataTable['output_type'] = 'display_data';\n",
              "          await google.colab.output.renderOutput(dataTable, element);\n",
              "          const docLink = document.createElement('div');\n",
              "          docLink.innerHTML = docLinkHtml;\n",
              "          element.appendChild(docLink);\n",
              "        }\n",
              "      </script>\n",
              "    </div>\n",
              "  </div>\n",
              "  "
            ]
          },
          "metadata": {},
          "execution_count": 12
        }
      ]
    },
    {
      "cell_type": "code",
      "source": [
        "plt.figure(figsize=(10,8))\n",
        "plt.title('Transaction/Month')\n",
        "sns.barplot(x='Months',y='Count',data = month)"
      ],
      "metadata": {
        "colab": {
          "base_uri": "https://localhost:8080/",
          "height": 535
        },
        "id": "2KiTtiIhE_Qm",
        "outputId": "cc93bf39-d6db-4027-ed5e-04e2127038b1"
      },
      "execution_count": null,
      "outputs": [
        {
          "output_type": "execute_result",
          "data": {
            "text/plain": [
              "<matplotlib.axes._subplots.AxesSubplot at 0x7efdd6562150>"
            ]
          },
          "metadata": {},
          "execution_count": 13
        },
        {
          "output_type": "display_data",
          "data": {
            "text/plain": [
              "<Figure size 720x576 with 1 Axes>"
            ],
            "image/png": "[encoded data removed]"
          },
          "metadata": {
            "needs_background": "light"
          }
        }
      ]
    },
    {
      "cell_type": "markdown",
      "source": [
        "There is clear inclusion from the above graph that in the month of November i.e winter season and looking over it the customers are purchasing winter cloth and might be the diwali equipments also.\n",
        "<br>In the month of January and February there is less purchasing of the customer and it is the end of the winter season so from this its clear that customer are having higher transaction in the season of winter."
      ],
      "metadata": {
        "id": "gTDb8bOpFFgQ"
      }
    },
    {
      "cell_type": "code",
      "source": [
        "Hour = data['Hour'].value_counts().reset_index()\n",
        "Hour.rename(columns = {'index' : 'Hours'}, inplace = True)\n",
        "Hour.rename(columns = {'Hour' : 'Count'}, inplace = True)\n",
        "Hour "
      ],
      "metadata": {
        "colab": {
          "base_uri": "https://localhost:8080/",
          "height": 520
        },
        "id": "ZOAF-4tGFF9D",
        "outputId": "f601b3c7-4cc5-48c2-9b33-5128a2c69f8d"
      },
      "execution_count": null,
      "outputs": [
        {
          "output_type": "execute_result",
          "data": {
            "text/plain": [
              "    Hours  Count\n",
              "0      12  72069\n",
              "1      13  64031\n",
              "2      14  54127\n",
              "3      11  49092\n",
              "4      15  45372\n",
              "5      10  37999\n",
              "6      16  24093\n",
              "7       9  21945\n",
              "8      17  13072\n",
              "9       8   8691\n",
              "10     19   3322\n",
              "11     18   2929\n",
              "12     20    802\n",
              "13      7    379\n",
              "14      6      1"
            ],
            "text/html": [
              "\n",
              "  <div id=\"df-4778da69-9e65-4e8e-83c2-89d78484d2be\">\n",
              "    <div class=\"colab-df-container\">\n",
              "      <div>\n",
              "<style scoped>\n",
              "    .dataframe tbody tr th:only-of-type {\n",
              "        vertical-align: middle;\n",
              "    }\n",
              "\n",
              "    .dataframe tbody tr th {\n",
              "        vertical-align: top;\n",
              "    }\n",
              "\n",
              "    .dataframe thead th {\n",
              "        text-align: right;\n",
              "    }\n",
              "</style>\n",
              "<table border=\"1\" class=\"dataframe\">\n",
              "  <thead>\n",
              "    <tr style=\"text-align: right;\">\n",
              "      <th></th>\n",
              "      <th>Hours</th>\n",
              "      <th>Count</th>\n",
              "    </tr>\n",
              "  </thead>\n",
              "  <tbody>\n",
              "    <tr>\n",
              "      <th>0</th>\n",
              "      <td>12</td>\n",
              "      <td>72069</td>\n",
              "    </tr>\n",
              "    <tr>\n",
              "      <th>1</th>\n",
              "      <td>13</td>\n",
              "      <td>64031</td>\n",
              "    </tr>\n",
              "    <tr>\n",
              "      <th>2</th>\n",
              "      <td>14</td>\n",
              "      <td>54127</td>\n",
              "    </tr>\n",
              "    <tr>\n",
              "      <th>3</th>\n",
              "      <td>11</td>\n",
              "      <td>49092</td>\n",
              "    </tr>\n",
              "    <tr>\n",
              "      <th>4</th>\n",
              "      <td>15</td>\n",
              "      <td>45372</td>\n",
              "    </tr>\n",
              "    <tr>\n",
              "      <th>5</th>\n",
              "      <td>10</td>\n",
              "      <td>37999</td>\n",
              "    </tr>\n",
              "    <tr>\n",
              "      <th>6</th>\n",
              "      <td>16</td>\n",
              "      <td>24093</td>\n",
              "    </tr>\n",
              "    <tr>\n",
              "      <th>7</th>\n",
              "      <td>9</td>\n",
              "      <td>21945</td>\n",
              "    </tr>\n",
              "    <tr>\n",
              "      <th>8</th>\n",
              "      <td>17</td>\n",
              "      <td>13072</td>\n",
              "    </tr>\n",
              "    <tr>\n",
              "      <th>9</th>\n",
              "      <td>8</td>\n",
              "      <td>8691</td>\n",
              "    </tr>\n",
              "    <tr>\n",
              "      <th>10</th>\n",
              "      <td>19</td>\n",
              "      <td>3322</td>\n",
              "    </tr>\n",
              "    <tr>\n",
              "      <th>11</th>\n",
              "      <td>18</td>\n",
              "      <td>2929</td>\n",
              "    </tr>\n",
              "    <tr>\n",
              "      <th>12</th>\n",
              "      <td>20</td>\n",
              "      <td>802</td>\n",
              "    </tr>\n",
              "    <tr>\n",
              "      <th>13</th>\n",
              "      <td>7</td>\n",
              "      <td>379</td>\n",
              "    </tr>\n",
              "    <tr>\n",
              "      <th>14</th>\n",
              "      <td>6</td>\n",
              "      <td>1</td>\n",
              "    </tr>\n",
              "  </tbody>\n",
              "</table>\n",
              "</div>\n",
              "      <button class=\"colab-df-convert\" onclick=\"convertToInteractive('df-4778da69-9e65-4e8e-83c2-89d78484d2be')\"\n",
              "              title=\"Convert this dataframe to an interactive table.\"\n",
              "              style=\"display:none;\">\n",
              "        \n",
              "  <svg xmlns=\"http://www.w3.org/2000/svg\" height=\"24px\"viewBox=\"0 0 24 24\"\n",
              "       width=\"24px\">\n",
              "    <path d=\"M0 0h24v24H0V0z\" fill=\"none\"/>\n",
              "    <path d=\"M18.56 5.44l.94 2.06.94-2.06 2.06-.94-2.06-.94-.94-2.06-.94 2.06-2.06.94zm-11 1L8.5 8.5l.94-2.06 2.06-.94-2.06-.94L8.5 2.5l-.94 2.06-2.06.94zm10 10l.94 2.06.94-2.06 2.06-.94-2.06-.94-.94-2.06-.94 2.06-2.06.94z\"/><path d=\"M17.41 7.96l-1.37-1.37c-.4-.4-.92-.59-1.43-.59-.52 0-1.04.2-1.43.59L10.3 9.45l-7.72 7.72c-.78.78-.78 2.05 0 2.83L4 21.41c.39.39.9.59 1.41.59.51 0 1.02-.2 1.41-.59l7.78-7.78 2.81-2.81c.8-.78.8-2.07 0-2.86zM5.41 20L4 18.59l7.72-7.72 1.47 1.35L5.41 20z\"/>\n",
              "  </svg>\n",
              "      </button>\n",
              "      \n",
              "  <style>\n",
              "    .colab-df-container {\n",
              "      display:flex;\n",
              "      flex-wrap:wrap;\n",
              "      gap: 12px;\n",
              "    }\n",
              "\n",
              "    .colab-df-convert {\n",
              "      background-color: #E8F0FE;\n",
              "      border: none;\n",
              "      border-radius: 50%;\n",
              "      cursor: pointer;\n",
              "      display: none;\n",
              "      fill: #1967D2;\n",
              "      height: 32px;\n",
              "      padding: 0 0 0 0;\n",
              "      width: 32px;\n",
              "    }\n",
              "\n",
              "    .colab-df-convert:hover {\n",
              "      background-color: #E2EBFA;\n",
              "      box-shadow: 0px 1px 2px rgba(60, 64, 67, 0.3), 0px 1px 3px 1px rgba(60, 64, 67, 0.15);\n",
              "      fill: #174EA6;\n",
              "    }\n",
              "\n",
              "    [theme=dark] .colab-df-convert {\n",
              "      background-color: #3B4455;\n",
              "      fill: #D2E3FC;\n",
              "    }\n",
              "\n",
              "    [theme=dark] .colab-df-convert:hover {\n",
              "      background-color: #434B5C;\n",
              "      box-shadow: 0px 1px 3px 1px rgba(0, 0, 0, 0.15);\n",
              "      filter: drop-shadow(0px 1px 2px rgba(0, 0, 0, 0.3));\n",
              "      fill: #FFFFFF;\n",
              "    }\n",
              "  </style>\n",
              "\n",
              "      <script>\n",
              "        const buttonEl =\n",
              "          document.querySelector('#df-4778da69-9e65-4e8e-83c2-89d78484d2be button.colab-df-convert');\n",
              "        buttonEl.style.display =\n",
              "          google.colab.kernel.accessAllowed ? 'block' : 'none';\n",
              "\n",
              "        async function convertToInteractive(key) {\n",
              "          const element = document.querySelector('#df-4778da69-9e65-4e8e-83c2-89d78484d2be');\n",
              "          const dataTable =\n",
              "            await google.colab.kernel.invokeFunction('convertToInteractive',\n",
              "                                                     [key], {});\n",
              "          if (!dataTable) return;\n",
              "\n",
              "          const docLinkHtml = 'Like what you see? Visit the ' +\n",
              "            '<a target=\"_blank\" href=https://colab.research.google.com/notebooks/data_table.ipynb>data table notebook</a>'\n",
              "            + ' to learn more about interactive tables.';\n",
              "          element.innerHTML = '';\n",
              "          dataTable['output_type'] = 'display_data';\n",
              "          await google.colab.output.renderOutput(dataTable, element);\n",
              "          const docLink = document.createElement('div');\n",
              "          docLink.innerHTML = docLinkHtml;\n",
              "          element.appendChild(docLink);\n",
              "        }\n",
              "      </script>\n",
              "    </div>\n",
              "  </div>\n",
              "  "
            ]
          },
          "metadata": {},
          "execution_count": 14
        }
      ]
    },
    {
      "cell_type": "code",
      "source": [
        "plt.figure(figsize=(10,11))\n",
        "plt.title('Transaction/Hour',fontsize= 20)\n",
        "sns.barplot(x='Hours',y='Count',data=Hour)"
      ],
      "metadata": {
        "colab": {
          "base_uri": "https://localhost:8080/",
          "height": 703
        },
        "id": "JjKllTC8FSdl",
        "outputId": "bae3527d-63ee-4b3a-b2fe-028d6b5fbf02"
      },
      "execution_count": null,
      "outputs": [
        {
          "output_type": "execute_result",
          "data": {
            "text/plain": [
              "<matplotlib.axes._subplots.AxesSubplot at 0x7efdd60583d0>"
            ]
          },
          "metadata": {},
          "execution_count": 15
        },
        {
          "output_type": "display_data",
          "data": {
            "text/plain": [
              "<Figure size 720x792 with 1 Axes>"
            ],
            "image/png": "[encoded data removed]"
          },
          "metadata": {
            "needs_background": "light"
          }
        }
      ]
    },
    {
      "cell_type": "markdown",
      "source": [
        "Hour states that the customers are high purchasing in between 11 to 4 pm so the almost customers are free in this time."
      ],
      "metadata": {
        "id": "y1rnv7h8FZ_m"
      }
    },
    {
      "cell_type": "markdown",
      "source": [
        "# **Total Price**"
      ],
      "metadata": {
        "id": "InuWY45oNoKy"
      }
    },
    {
      "cell_type": "code",
      "source": [
        "data['TotalPrice'] = data['Quantity']*data['UnitPrice']"
      ],
      "metadata": {
        "id": "kMfb1Mc-Fb1g"
      },
      "execution_count": 11,
      "outputs": []
    },
    {
      "cell_type": "code",
      "source": [
        "data.head()"
      ],
      "metadata": {
        "colab": {
          "base_uri": "https://localhost:8080/",
          "height": 600
        },
        "id": "b18Pw553OEsp",
        "outputId": "8440b664-a5aa-496c-9da2-b47052c2f320"
      },
      "execution_count": null,
      "outputs": [
        {
          "output_type": "execute_result",
          "data": {
            "text/plain": [
              "  InvoiceNo StockCode                          Description  Quantity  \\\n",
              "0    536365    85123A   WHITE HANGING HEART T-LIGHT HOLDER         6   \n",
              "1    536365     71053                  WHITE METAL LANTERN         6   \n",
              "2    536365    84406B       CREAM CUPID HEARTS COAT HANGER         8   \n",
              "3    536365    84029G  KNITTED UNION FLAG HOT WATER BOTTLE         6   \n",
              "4    536365    84029E       RED WOOLLY HOTTIE WHITE HEART.         6   \n",
              "\n",
              "          InvoiceDate  UnitPrice  CustomerID         Country  year  month  \\\n",
              "0 2010-12-01 08:26:00       2.55     17850.0  United Kingdom  2010     12   \n",
              "1 2010-12-01 08:26:00       3.39     17850.0  United Kingdom  2010     12   \n",
              "2 2010-12-01 08:26:00       2.75     17850.0  United Kingdom  2010     12   \n",
              "3 2010-12-01 08:26:00       3.39     17850.0  United Kingdom  2010     12   \n",
              "4 2010-12-01 08:26:00       3.39     17850.0  United Kingdom  2010     12   \n",
              "\n",
              "  month name  day   day name  Hour  Minute  TotalPrice  \n",
              "0   December    1  Wednesday     8      26       15.30  \n",
              "1   December    1  Wednesday     8      26       20.34  \n",
              "2   December    1  Wednesday     8      26       22.00  \n",
              "3   December    1  Wednesday     8      26       20.34  \n",
              "4   December    1  Wednesday     8      26       20.34  "
            ],
            "text/html": [
              "\n",
              "  <div id=\"df-0c22f290-0031-4317-bdfe-51a092e2e114\">\n",
              "    <div class=\"colab-df-container\">\n",
              "      <div>\n",
              "<style scoped>\n",
              "    .dataframe tbody tr th:only-of-type {\n",
              "        vertical-align: middle;\n",
              "    }\n",
              "\n",
              "    .dataframe tbody tr th {\n",
              "        vertical-align: top;\n",
              "    }\n",
              "\n",
              "    .dataframe thead th {\n",
              "        text-align: right;\n",
              "    }\n",
              "</style>\n",
              "<table border=\"1\" class=\"dataframe\">\n",
              "  <thead>\n",
              "    <tr style=\"text-align: right;\">\n",
              "      <th></th>\n",
              "      <th>InvoiceNo</th>\n",
              "      <th>StockCode</th>\n",
              "      <th>Description</th>\n",
              "      <th>Quantity</th>\n",
              "      <th>InvoiceDate</th>\n",
              "      <th>UnitPrice</th>\n",
              "      <th>CustomerID</th>\n",
              "      <th>Country</th>\n",
              "      <th>year</th>\n",
              "      <th>month</th>\n",
              "      <th>month name</th>\n",
              "      <th>day</th>\n",
              "      <th>day name</th>\n",
              "      <th>Hour</th>\n",
              "      <th>Minute</th>\n",
              "      <th>TotalPrice</th>\n",
              "    </tr>\n",
              "  </thead>\n",
              "  <tbody>\n",
              "    <tr>\n",
              "      <th>0</th>\n",
              "      <td>536365</td>\n",
              "      <td>85123A</td>\n",
              "      <td>WHITE HANGING HEART T-LIGHT HOLDER</td>\n",
              "      <td>6</td>\n",
              "      <td>2010-12-01 08:26:00</td>\n",
              "      <td>2.55</td>\n",
              "      <td>17850.0</td>\n",
              "      <td>United Kingdom</td>\n",
              "      <td>2010</td>\n",
              "      <td>12</td>\n",
              "      <td>December</td>\n",
              "      <td>1</td>\n",
              "      <td>Wednesday</td>\n",
              "      <td>8</td>\n",
              "      <td>26</td>\n",
              "      <td>15.30</td>\n",
              "    </tr>\n",
              "    <tr>\n",
              "      <th>1</th>\n",
              "      <td>536365</td>\n",
              "      <td>71053</td>\n",
              "      <td>WHITE METAL LANTERN</td>\n",
              "      <td>6</td>\n",
              "      <td>2010-12-01 08:26:00</td>\n",
              "      <td>3.39</td>\n",
              "      <td>17850.0</td>\n",
              "      <td>United Kingdom</td>\n",
              "      <td>2010</td>\n",
              "      <td>12</td>\n",
              "      <td>December</td>\n",
              "      <td>1</td>\n",
              "      <td>Wednesday</td>\n",
              "      <td>8</td>\n",
              "      <td>26</td>\n",
              "      <td>20.34</td>\n",
              "    </tr>\n",
              "    <tr>\n",
              "      <th>2</th>\n",
              "      <td>536365</td>\n",
              "      <td>84406B</td>\n",
              "      <td>CREAM CUPID HEARTS COAT HANGER</td>\n",
              "      <td>8</td>\n",
              "      <td>2010-12-01 08:26:00</td>\n",
              "      <td>2.75</td>\n",
              "      <td>17850.0</td>\n",
              "      <td>United Kingdom</td>\n",
              "      <td>2010</td>\n",
              "      <td>12</td>\n",
              "      <td>December</td>\n",
              "      <td>1</td>\n",
              "      <td>Wednesday</td>\n",
              "      <td>8</td>\n",
              "      <td>26</td>\n",
              "      <td>22.00</td>\n",
              "    </tr>\n",
              "    <tr>\n",
              "      <th>3</th>\n",
              "      <td>536365</td>\n",
              "      <td>84029G</td>\n",
              "      <td>KNITTED UNION FLAG HOT WATER BOTTLE</td>\n",
              "      <td>6</td>\n",
              "      <td>2010-12-01 08:26:00</td>\n",
              "      <td>3.39</td>\n",
              "      <td>17850.0</td>\n",
              "      <td>United Kingdom</td>\n",
              "      <td>2010</td>\n",
              "      <td>12</td>\n",
              "      <td>December</td>\n",
              "      <td>1</td>\n",
              "      <td>Wednesday</td>\n",
              "      <td>8</td>\n",
              "      <td>26</td>\n",
              "      <td>20.34</td>\n",
              "    </tr>\n",
              "    <tr>\n",
              "      <th>4</th>\n",
              "      <td>536365</td>\n",
              "      <td>84029E</td>\n",
              "      <td>RED WOOLLY HOTTIE WHITE HEART.</td>\n",
              "      <td>6</td>\n",
              "      <td>2010-12-01 08:26:00</td>\n",
              "      <td>3.39</td>\n",
              "      <td>17850.0</td>\n",
              "      <td>United Kingdom</td>\n",
              "      <td>2010</td>\n",
              "      <td>12</td>\n",
              "      <td>December</td>\n",
              "      <td>1</td>\n",
              "      <td>Wednesday</td>\n",
              "      <td>8</td>\n",
              "      <td>26</td>\n",
              "      <td>20.34</td>\n",
              "    </tr>\n",
              "  </tbody>\n",
              "</table>\n",
              "</div>\n",
              "      <button class=\"colab-df-convert\" onclick=\"convertToInteractive('df-0c22f290-0031-4317-bdfe-51a092e2e114')\"\n",
              "              title=\"Convert this dataframe to an interactive table.\"\n",
              "              style=\"display:none;\">\n",
              "        \n",
              "  <svg xmlns=\"http://www.w3.org/2000/svg\" height=\"24px\"viewBox=\"0 0 24 24\"\n",
              "       width=\"24px\">\n",
              "    <path d=\"M0 0h24v24H0V0z\" fill=\"none\"/>\n",
              "    <path d=\"M18.56 5.44l.94 2.06.94-2.06 2.06-.94-2.06-.94-.94-2.06-.94 2.06-2.06.94zm-11 1L8.5 8.5l.94-2.06 2.06-.94-2.06-.94L8.5 2.5l-.94 2.06-2.06.94zm10 10l.94 2.06.94-2.06 2.06-.94-2.06-.94-.94-2.06-.94 2.06-2.06.94z\"/><path d=\"M17.41 7.96l-1.37-1.37c-.4-.4-.92-.59-1.43-.59-.52 0-1.04.2-1.43.59L10.3 9.45l-7.72 7.72c-.78.78-.78 2.05 0 2.83L4 21.41c.39.39.9.59 1.41.59.51 0 1.02-.2 1.41-.59l7.78-7.78 2.81-2.81c.8-.78.8-2.07 0-2.86zM5.41 20L4 18.59l7.72-7.72 1.47 1.35L5.41 20z\"/>\n",
              "  </svg>\n",
              "      </button>\n",
              "      \n",
              "  <style>\n",
              "    .colab-df-container {\n",
              "      display:flex;\n",
              "      flex-wrap:wrap;\n",
              "      gap: 12px;\n",
              "    }\n",
              "\n",
              "    .colab-df-convert {\n",
              "      background-color: #E8F0FE;\n",
              "      border: none;\n",
              "      border-radius: 50%;\n",
              "      cursor: pointer;\n",
              "      display: none;\n",
              "      fill: #1967D2;\n",
              "      height: 32px;\n",
              "      padding: 0 0 0 0;\n",
              "      width: 32px;\n",
              "    }\n",
              "\n",
              "    .colab-df-convert:hover {\n",
              "      background-color: #E2EBFA;\n",
              "      box-shadow: 0px 1px 2px rgba(60, 64, 67, 0.3), 0px 1px 3px 1px rgba(60, 64, 67, 0.15);\n",
              "      fill: #174EA6;\n",
              "    }\n",
              "\n",
              "    [theme=dark] .colab-df-convert {\n",
              "      background-color: #3B4455;\n",
              "      fill: #D2E3FC;\n",
              "    }\n",
              "\n",
              "    [theme=dark] .colab-df-convert:hover {\n",
              "      background-color: #434B5C;\n",
              "      box-shadow: 0px 1px 3px 1px rgba(0, 0, 0, 0.15);\n",
              "      filter: drop-shadow(0px 1px 2px rgba(0, 0, 0, 0.3));\n",
              "      fill: #FFFFFF;\n",
              "    }\n",
              "  </style>\n",
              "\n",
              "      <script>\n",
              "        const buttonEl =\n",
              "          document.querySelector('#df-0c22f290-0031-4317-bdfe-51a092e2e114 button.colab-df-convert');\n",
              "        buttonEl.style.display =\n",
              "          google.colab.kernel.accessAllowed ? 'block' : 'none';\n",
              "\n",
              "        async function convertToInteractive(key) {\n",
              "          const element = document.querySelector('#df-0c22f290-0031-4317-bdfe-51a092e2e114');\n",
              "          const dataTable =\n",
              "            await google.colab.kernel.invokeFunction('convertToInteractive',\n",
              "                                                     [key], {});\n",
              "          if (!dataTable) return;\n",
              "\n",
              "          const docLinkHtml = 'Like what you see? Visit the ' +\n",
              "            '<a target=\"_blank\" href=https://colab.research.google.com/notebooks/data_table.ipynb>data table notebook</a>'\n",
              "            + ' to learn more about interactive tables.';\n",
              "          element.innerHTML = '';\n",
              "          dataTable['output_type'] = 'display_data';\n",
              "          await google.colab.output.renderOutput(dataTable, element);\n",
              "          const docLink = document.createElement('div');\n",
              "          docLink.innerHTML = docLinkHtml;\n",
              "          element.appendChild(docLink);\n",
              "        }\n",
              "      </script>\n",
              "    </div>\n",
              "  </div>\n",
              "  "
            ]
          },
          "metadata": {},
          "execution_count": 9
        }
      ]
    },
    {
      "cell_type": "markdown",
      "source": [
        "Now its a time to pick the appropriate model and train it.\n",
        "Considering the RFM model which is widely used in the segmentation of the customer. This model helps to divide the customer as it follows:\n",
        "\n",
        "**Recency :-** The recency of the customer is the difference between the present day and the how many days before the customer was arrived.\n",
        "<br> **Frequency :-** The frequency of the customer is the total number of purchasing items till on that day.\n",
        "<br>**Monetary:-** The monetary of the customer is the total worth for that purchasing goods or how much the cost he/she paid uptill now."
      ],
      "metadata": {
        "id": "mEMzIF14OLQi"
      }
    },
    {
      "cell_type": "markdown",
      "source": [
        "# **Recency, Frequency, Monetary (RFM) Model**"
      ],
      "metadata": {
        "id": "b6BYVUKoOPzj"
      }
    },
    {
      "cell_type": "code",
      "source": [
        "import datetime as dt\n",
        "PRESENT = dt.datetime(2011,12,10)\n",
        "rfm_model= data.groupby('CustomerID').agg({'InvoiceDate': lambda date: (PRESENT - date.max()).days,\n",
        "                                        'InvoiceNo': lambda num: len(num),\n",
        "                                        'TotalPrice': lambda price: price.sum()})\n",
        "#Convert Invoice Date into type int\n",
        "rfm_model['InvoiceDate'] = rfm_model['InvoiceDate'].astype(int)\n",
        "\n",
        "#Rename column names to Recency, Frequency and Monetary\n",
        "rfm_model.rename(columns={'InvoiceDate': 'Recency', \n",
        "                         'InvoiceNo': 'Frequency', \n",
        "                         'TotalPrice': 'Monetary'}, inplace=True) \n",
        "\n",
        "rfm_model.reset_index().head()"
      ],
      "metadata": {
        "colab": {
          "base_uri": "https://localhost:8080/",
          "height": 206
        },
        "id": "HO7Ig7yDOLrZ",
        "outputId": "9adc8e7b-0f57-48b8-c9c8-a118d48e312b"
      },
      "execution_count": 12,
      "outputs": [
        {
          "output_type": "execute_result",
          "data": {
            "text/plain": [
              "   CustomerID  Recency  Frequency  Monetary\n",
              "0     12346.0      325          1  77183.60\n",
              "1     12347.0        2        182   4310.00\n",
              "2     12348.0       75         31   1797.24\n",
              "3     12349.0       18         73   1757.55\n",
              "4     12350.0      310         17    334.40"
            ],
            "text/html": [
              "\n",
              "  <div id=\"df-de3608c0-4bd3-439c-96c6-82c3bebbe3c4\">\n",
              "    <div class=\"colab-df-container\">\n",
              "      <div>\n",
              "<style scoped>\n",
              "    .dataframe tbody tr th:only-of-type {\n",
              "        vertical-align: middle;\n",
              "    }\n",
              "\n",
              "    .dataframe tbody tr th {\n",
              "        vertical-align: top;\n",
              "    }\n",
              "\n",
              "    .dataframe thead th {\n",
              "        text-align: right;\n",
              "    }\n",
              "</style>\n",
              "<table border=\"1\" class=\"dataframe\">\n",
              "  <thead>\n",
              "    <tr style=\"text-align: right;\">\n",
              "      <th></th>\n",
              "      <th>CustomerID</th>\n",
              "      <th>Recency</th>\n",
              "      <th>Frequency</th>\n",
              "      <th>Monetary</th>\n",
              "    </tr>\n",
              "  </thead>\n",
              "  <tbody>\n",
              "    <tr>\n",
              "      <th>0</th>\n",
              "      <td>12346.0</td>\n",
              "      <td>325</td>\n",
              "      <td>1</td>\n",
              "      <td>77183.60</td>\n",
              "    </tr>\n",
              "    <tr>\n",
              "      <th>1</th>\n",
              "      <td>12347.0</td>\n",
              "      <td>2</td>\n",
              "      <td>182</td>\n",
              "      <td>4310.00</td>\n",
              "    </tr>\n",
              "    <tr>\n",
              "      <th>2</th>\n",
              "      <td>12348.0</td>\n",
              "      <td>75</td>\n",
              "      <td>31</td>\n",
              "      <td>1797.24</td>\n",
              "    </tr>\n",
              "    <tr>\n",
              "      <th>3</th>\n",
              "      <td>12349.0</td>\n",
              "      <td>18</td>\n",
              "      <td>73</td>\n",
              "      <td>1757.55</td>\n",
              "    </tr>\n",
              "    <tr>\n",
              "      <th>4</th>\n",
              "      <td>12350.0</td>\n",
              "      <td>310</td>\n",
              "      <td>17</td>\n",
              "      <td>334.40</td>\n",
              "    </tr>\n",
              "  </tbody>\n",
              "</table>\n",
              "</div>\n",
              "      <button class=\"colab-df-convert\" onclick=\"convertToInteractive('df-de3608c0-4bd3-439c-96c6-82c3bebbe3c4')\"\n",
              "              title=\"Convert this dataframe to an interactive table.\"\n",
              "              style=\"display:none;\">\n",
              "        \n",
              "  <svg xmlns=\"http://www.w3.org/2000/svg\" height=\"24px\"viewBox=\"0 0 24 24\"\n",
              "       width=\"24px\">\n",
              "    <path d=\"M0 0h24v24H0V0z\" fill=\"none\"/>\n",
              "    <path d=\"M18.56 5.44l.94 2.06.94-2.06 2.06-.94-2.06-.94-.94-2.06-.94 2.06-2.06.94zm-11 1L8.5 8.5l.94-2.06 2.06-.94-2.06-.94L8.5 2.5l-.94 2.06-2.06.94zm10 10l.94 2.06.94-2.06 2.06-.94-2.06-.94-.94-2.06-.94 2.06-2.06.94z\"/><path d=\"M17.41 7.96l-1.37-1.37c-.4-.4-.92-.59-1.43-.59-.52 0-1.04.2-1.43.59L10.3 9.45l-7.72 7.72c-.78.78-.78 2.05 0 2.83L4 21.41c.39.39.9.59 1.41.59.51 0 1.02-.2 1.41-.59l7.78-7.78 2.81-2.81c.8-.78.8-2.07 0-2.86zM5.41 20L4 18.59l7.72-7.72 1.47 1.35L5.41 20z\"/>\n",
              "  </svg>\n",
              "      </button>\n",
              "      \n",
              "  <style>\n",
              "    .colab-df-container {\n",
              "      display:flex;\n",
              "      flex-wrap:wrap;\n",
              "      gap: 12px;\n",
              "    }\n",
              "\n",
              "    .colab-df-convert {\n",
              "      background-color: #E8F0FE;\n",
              "      border: none;\n",
              "      border-radius: 50%;\n",
              "      cursor: pointer;\n",
              "      display: none;\n",
              "      fill: #1967D2;\n",
              "      height: 32px;\n",
              "      padding: 0 0 0 0;\n",
              "      width: 32px;\n",
              "    }\n",
              "\n",
              "    .colab-df-convert:hover {\n",
              "      background-color: #E2EBFA;\n",
              "      box-shadow: 0px 1px 2px rgba(60, 64, 67, 0.3), 0px 1px 3px 1px rgba(60, 64, 67, 0.15);\n",
              "      fill: #174EA6;\n",
              "    }\n",
              "\n",
              "    [theme=dark] .colab-df-convert {\n",
              "      background-color: #3B4455;\n",
              "      fill: #D2E3FC;\n",
              "    }\n",
              "\n",
              "    [theme=dark] .colab-df-convert:hover {\n",
              "      background-color: #434B5C;\n",
              "      box-shadow: 0px 1px 3px 1px rgba(0, 0, 0, 0.15);\n",
              "      filter: drop-shadow(0px 1px 2px rgba(0, 0, 0, 0.3));\n",
              "      fill: #FFFFFF;\n",
              "    }\n",
              "  </style>\n",
              "\n",
              "      <script>\n",
              "        const buttonEl =\n",
              "          document.querySelector('#df-de3608c0-4bd3-439c-96c6-82c3bebbe3c4 button.colab-df-convert');\n",
              "        buttonEl.style.display =\n",
              "          google.colab.kernel.accessAllowed ? 'block' : 'none';\n",
              "\n",
              "        async function convertToInteractive(key) {\n",
              "          const element = document.querySelector('#df-de3608c0-4bd3-439c-96c6-82c3bebbe3c4');\n",
              "          const dataTable =\n",
              "            await google.colab.kernel.invokeFunction('convertToInteractive',\n",
              "                                                     [key], {});\n",
              "          if (!dataTable) return;\n",
              "\n",
              "          const docLinkHtml = 'Like what you see? Visit the ' +\n",
              "            '<a target=\"_blank\" href=https://colab.research.google.com/notebooks/data_table.ipynb>data table notebook</a>'\n",
              "            + ' to learn more about interactive tables.';\n",
              "          element.innerHTML = '';\n",
              "          dataTable['output_type'] = 'display_data';\n",
              "          await google.colab.output.renderOutput(dataTable, element);\n",
              "          const docLink = document.createElement('div');\n",
              "          docLink.innerHTML = docLinkHtml;\n",
              "          element.appendChild(docLink);\n",
              "        }\n",
              "      </script>\n",
              "    </div>\n",
              "  </div>\n",
              "  "
            ]
          },
          "metadata": {},
          "execution_count": 12
        }
      ]
    },
    {
      "cell_type": "markdown",
      "source": [
        "# **Computing Quantile of RFM values**\n",
        "\n",
        "Customers with the lowest recency, highest frequency and monetary amounts considered as top customers.\n",
        "\n",
        "qcut() is Quantile-based discretization function. qcut bins the data based on sample quantiles. For example, 1000 values for 4 quantiles would produce a categorical object indicating quantile membership for each customer.\n",
        "\n"
      ],
      "metadata": {
        "id": "5hDKgQM2Ob7I"
      }
    },
    {
      "cell_type": "code",
      "source": [
        "rfm_model['R_quartile'] = pd.qcut(rfm_model['Recency'], 4, ['1','2','3','4'])\n",
        "rfm_model['F_quartile'] = pd.qcut(rfm_model['Frequency'], 4, ['4','3','2','1'])\n",
        "rfm_model['M_quartile'] = pd.qcut(rfm_model['Monetary'], 4, ['4','3','2','1'])\n",
        "rfm_model.head()"
      ],
      "metadata": {
        "colab": {
          "base_uri": "https://localhost:8080/",
          "height": 237
        },
        "id": "8bAOO61gOcZ0",
        "outputId": "3a1b478f-327e-4418-c20c-749b6439f348"
      },
      "execution_count": 13,
      "outputs": [
        {
          "output_type": "execute_result",
          "data": {
            "text/plain": [
              "            Recency  Frequency  Monetary R_quartile F_quartile M_quartile\n",
              "CustomerID                                                               \n",
              "12346.0         325          1  77183.60          4          4          1\n",
              "12347.0           2        182   4310.00          1          1          1\n",
              "12348.0          75         31   1797.24          3          3          1\n",
              "12349.0          18         73   1757.55          2          2          1\n",
              "12350.0         310         17    334.40          4          4          3"
            ],
            "text/html": [
              "\n",
              "  <div id=\"df-23660682-4e3d-4d03-8136-d6a269e09e7b\">\n",
              "    <div class=\"colab-df-container\">\n",
              "      <div>\n",
              "<style scoped>\n",
              "    .dataframe tbody tr th:only-of-type {\n",
              "        vertical-align: middle;\n",
              "    }\n",
              "\n",
              "    .dataframe tbody tr th {\n",
              "        vertical-align: top;\n",
              "    }\n",
              "\n",
              "    .dataframe thead th {\n",
              "        text-align: right;\n",
              "    }\n",
              "</style>\n",
              "<table border=\"1\" class=\"dataframe\">\n",
              "  <thead>\n",
              "    <tr style=\"text-align: right;\">\n",
              "      <th></th>\n",
              "      <th>Recency</th>\n",
              "      <th>Frequency</th>\n",
              "      <th>Monetary</th>\n",
              "      <th>R_quartile</th>\n",
              "      <th>F_quartile</th>\n",
              "      <th>M_quartile</th>\n",
              "    </tr>\n",
              "    <tr>\n",
              "      <th>CustomerID</th>\n",
              "      <th></th>\n",
              "      <th></th>\n",
              "      <th></th>\n",
              "      <th></th>\n",
              "      <th></th>\n",
              "      <th></th>\n",
              "    </tr>\n",
              "  </thead>\n",
              "  <tbody>\n",
              "    <tr>\n",
              "      <th>12346.0</th>\n",
              "      <td>325</td>\n",
              "      <td>1</td>\n",
              "      <td>77183.60</td>\n",
              "      <td>4</td>\n",
              "      <td>4</td>\n",
              "      <td>1</td>\n",
              "    </tr>\n",
              "    <tr>\n",
              "      <th>12347.0</th>\n",
              "      <td>2</td>\n",
              "      <td>182</td>\n",
              "      <td>4310.00</td>\n",
              "      <td>1</td>\n",
              "      <td>1</td>\n",
              "      <td>1</td>\n",
              "    </tr>\n",
              "    <tr>\n",
              "      <th>12348.0</th>\n",
              "      <td>75</td>\n",
              "      <td>31</td>\n",
              "      <td>1797.24</td>\n",
              "      <td>3</td>\n",
              "      <td>3</td>\n",
              "      <td>1</td>\n",
              "    </tr>\n",
              "    <tr>\n",
              "      <th>12349.0</th>\n",
              "      <td>18</td>\n",
              "      <td>73</td>\n",
              "      <td>1757.55</td>\n",
              "      <td>2</td>\n",
              "      <td>2</td>\n",
              "      <td>1</td>\n",
              "    </tr>\n",
              "    <tr>\n",
              "      <th>12350.0</th>\n",
              "      <td>310</td>\n",
              "      <td>17</td>\n",
              "      <td>334.40</td>\n",
              "      <td>4</td>\n",
              "      <td>4</td>\n",
              "      <td>3</td>\n",
              "    </tr>\n",
              "  </tbody>\n",
              "</table>\n",
              "</div>\n",
              "      <button class=\"colab-df-convert\" onclick=\"convertToInteractive('df-23660682-4e3d-4d03-8136-d6a269e09e7b')\"\n",
              "              title=\"Convert this dataframe to an interactive table.\"\n",
              "              style=\"display:none;\">\n",
              "        \n",
              "  <svg xmlns=\"http://www.w3.org/2000/svg\" height=\"24px\"viewBox=\"0 0 24 24\"\n",
              "       width=\"24px\">\n",
              "    <path d=\"M0 0h24v24H0V0z\" fill=\"none\"/>\n",
              "    <path d=\"M18.56 5.44l.94 2.06.94-2.06 2.06-.94-2.06-.94-.94-2.06-.94 2.06-2.06.94zm-11 1L8.5 8.5l.94-2.06 2.06-.94-2.06-.94L8.5 2.5l-.94 2.06-2.06.94zm10 10l.94 2.06.94-2.06 2.06-.94-2.06-.94-.94-2.06-.94 2.06-2.06.94z\"/><path d=\"M17.41 7.96l-1.37-1.37c-.4-.4-.92-.59-1.43-.59-.52 0-1.04.2-1.43.59L10.3 9.45l-7.72 7.72c-.78.78-.78 2.05 0 2.83L4 21.41c.39.39.9.59 1.41.59.51 0 1.02-.2 1.41-.59l7.78-7.78 2.81-2.81c.8-.78.8-2.07 0-2.86zM5.41 20L4 18.59l7.72-7.72 1.47 1.35L5.41 20z\"/>\n",
              "  </svg>\n",
              "      </button>\n",
              "      \n",
              "  <style>\n",
              "    .colab-df-container {\n",
              "      display:flex;\n",
              "      flex-wrap:wrap;\n",
              "      gap: 12px;\n",
              "    }\n",
              "\n",
              "    .colab-df-convert {\n",
              "      background-color: #E8F0FE;\n",
              "      border: none;\n",
              "      border-radius: 50%;\n",
              "      cursor: pointer;\n",
              "      display: none;\n",
              "      fill: #1967D2;\n",
              "      height: 32px;\n",
              "      padding: 0 0 0 0;\n",
              "      width: 32px;\n",
              "    }\n",
              "\n",
              "    .colab-df-convert:hover {\n",
              "      background-color: #E2EBFA;\n",
              "      box-shadow: 0px 1px 2px rgba(60, 64, 67, 0.3), 0px 1px 3px 1px rgba(60, 64, 67, 0.15);\n",
              "      fill: #174EA6;\n",
              "    }\n",
              "\n",
              "    [theme=dark] .colab-df-convert {\n",
              "      background-color: #3B4455;\n",
              "      fill: #D2E3FC;\n",
              "    }\n",
              "\n",
              "    [theme=dark] .colab-df-convert:hover {\n",
              "      background-color: #434B5C;\n",
              "      box-shadow: 0px 1px 3px 1px rgba(0, 0, 0, 0.15);\n",
              "      filter: drop-shadow(0px 1px 2px rgba(0, 0, 0, 0.3));\n",
              "      fill: #FFFFFF;\n",
              "    }\n",
              "  </style>\n",
              "\n",
              "      <script>\n",
              "        const buttonEl =\n",
              "          document.querySelector('#df-23660682-4e3d-4d03-8136-d6a269e09e7b button.colab-df-convert');\n",
              "        buttonEl.style.display =\n",
              "          google.colab.kernel.accessAllowed ? 'block' : 'none';\n",
              "\n",
              "        async function convertToInteractive(key) {\n",
              "          const element = document.querySelector('#df-23660682-4e3d-4d03-8136-d6a269e09e7b');\n",
              "          const dataTable =\n",
              "            await google.colab.kernel.invokeFunction('convertToInteractive',\n",
              "                                                     [key], {});\n",
              "          if (!dataTable) return;\n",
              "\n",
              "          const docLinkHtml = 'Like what you see? Visit the ' +\n",
              "            '<a target=\"_blank\" href=https://colab.research.google.com/notebooks/data_table.ipynb>data table notebook</a>'\n",
              "            + ' to learn more about interactive tables.';\n",
              "          element.innerHTML = '';\n",
              "          dataTable['output_type'] = 'display_data';\n",
              "          await google.colab.output.renderOutput(dataTable, element);\n",
              "          const docLink = document.createElement('div');\n",
              "          docLink.innerHTML = docLinkHtml;\n",
              "          element.appendChild(docLink);\n",
              "        }\n",
              "      </script>\n",
              "    </div>\n",
              "  </div>\n",
              "  "
            ]
          },
          "metadata": {},
          "execution_count": 13
        }
      ]
    },
    {
      "cell_type": "markdown",
      "source": [
        "# **RFM Result Interpretation**\n",
        "\n",
        "Combine all three quartiles(R_quartile,F_quartile,M_quartile) in a single column, this rank will help you to segment the customers well group."
      ],
      "metadata": {
        "id": "cF0RAQW8Onku"
      }
    },
    {
      "cell_type": "code",
      "source": [
        "rfm_model['RFM_Score'] = rfm_model.R_quartile.astype(str)+ rfm_model.F_quartile.astype(str) + rfm_model.M_quartile.astype(str)\n",
        "rfm_model.head()"
      ],
      "metadata": {
        "colab": {
          "base_uri": "https://localhost:8080/",
          "height": 237
        },
        "id": "b-31nfxrOlTv",
        "outputId": "47960c42-d65c-4608-8023-fddaa4a3917b"
      },
      "execution_count": 14,
      "outputs": [
        {
          "output_type": "execute_result",
          "data": {
            "text/plain": [
              "            Recency  Frequency  Monetary R_quartile F_quartile M_quartile  \\\n",
              "CustomerID                                                                  \n",
              "12346.0         325          1  77183.60          4          4          1   \n",
              "12347.0           2        182   4310.00          1          1          1   \n",
              "12348.0          75         31   1797.24          3          3          1   \n",
              "12349.0          18         73   1757.55          2          2          1   \n",
              "12350.0         310         17    334.40          4          4          3   \n",
              "\n",
              "           RFM_Score  \n",
              "CustomerID            \n",
              "12346.0          441  \n",
              "12347.0          111  \n",
              "12348.0          331  \n",
              "12349.0          221  \n",
              "12350.0          443  "
            ],
            "text/html": [
              "\n",
              "  <div id=\"df-71325747-63f0-40c8-856a-c540749e72f3\">\n",
              "    <div class=\"colab-df-container\">\n",
              "      <div>\n",
              "<style scoped>\n",
              "    .dataframe tbody tr th:only-of-type {\n",
              "        vertical-align: middle;\n",
              "    }\n",
              "\n",
              "    .dataframe tbody tr th {\n",
              "        vertical-align: top;\n",
              "    }\n",
              "\n",
              "    .dataframe thead th {\n",
              "        text-align: right;\n",
              "    }\n",
              "</style>\n",
              "<table border=\"1\" class=\"dataframe\">\n",
              "  <thead>\n",
              "    <tr style=\"text-align: right;\">\n",
              "      <th></th>\n",
              "      <th>Recency</th>\n",
              "      <th>Frequency</th>\n",
              "      <th>Monetary</th>\n",
              "      <th>R_quartile</th>\n",
              "      <th>F_quartile</th>\n",
              "      <th>M_quartile</th>\n",
              "      <th>RFM_Score</th>\n",
              "    </tr>\n",
              "    <tr>\n",
              "      <th>CustomerID</th>\n",
              "      <th></th>\n",
              "      <th></th>\n",
              "      <th></th>\n",
              "      <th></th>\n",
              "      <th></th>\n",
              "      <th></th>\n",
              "      <th></th>\n",
              "    </tr>\n",
              "  </thead>\n",
              "  <tbody>\n",
              "    <tr>\n",
              "      <th>12346.0</th>\n",
              "      <td>325</td>\n",
              "      <td>1</td>\n",
              "      <td>77183.60</td>\n",
              "      <td>4</td>\n",
              "      <td>4</td>\n",
              "      <td>1</td>\n",
              "      <td>441</td>\n",
              "    </tr>\n",
              "    <tr>\n",
              "      <th>12347.0</th>\n",
              "      <td>2</td>\n",
              "      <td>182</td>\n",
              "      <td>4310.00</td>\n",
              "      <td>1</td>\n",
              "      <td>1</td>\n",
              "      <td>1</td>\n",
              "      <td>111</td>\n",
              "    </tr>\n",
              "    <tr>\n",
              "      <th>12348.0</th>\n",
              "      <td>75</td>\n",
              "      <td>31</td>\n",
              "      <td>1797.24</td>\n",
              "      <td>3</td>\n",
              "      <td>3</td>\n",
              "      <td>1</td>\n",
              "      <td>331</td>\n",
              "    </tr>\n",
              "    <tr>\n",
              "      <th>12349.0</th>\n",
              "      <td>18</td>\n",
              "      <td>73</td>\n",
              "      <td>1757.55</td>\n",
              "      <td>2</td>\n",
              "      <td>2</td>\n",
              "      <td>1</td>\n",
              "      <td>221</td>\n",
              "    </tr>\n",
              "    <tr>\n",
              "      <th>12350.0</th>\n",
              "      <td>310</td>\n",
              "      <td>17</td>\n",
              "      <td>334.40</td>\n",
              "      <td>4</td>\n",
              "      <td>4</td>\n",
              "      <td>3</td>\n",
              "      <td>443</td>\n",
              "    </tr>\n",
              "  </tbody>\n",
              "</table>\n",
              "</div>\n",
              "      <button class=\"colab-df-convert\" onclick=\"convertToInteractive('df-71325747-63f0-40c8-856a-c540749e72f3')\"\n",
              "              title=\"Convert this dataframe to an interactive table.\"\n",
              "              style=\"display:none;\">\n",
              "        \n",
              "  <svg xmlns=\"http://www.w3.org/2000/svg\" height=\"24px\"viewBox=\"0 0 24 24\"\n",
              "       width=\"24px\">\n",
              "    <path d=\"M0 0h24v24H0V0z\" fill=\"none\"/>\n",
              "    <path d=\"M18.56 5.44l.94 2.06.94-2.06 2.06-.94-2.06-.94-.94-2.06-.94 2.06-2.06.94zm-11 1L8.5 8.5l.94-2.06 2.06-.94-2.06-.94L8.5 2.5l-.94 2.06-2.06.94zm10 10l.94 2.06.94-2.06 2.06-.94-2.06-.94-.94-2.06-.94 2.06-2.06.94z\"/><path d=\"M17.41 7.96l-1.37-1.37c-.4-.4-.92-.59-1.43-.59-.52 0-1.04.2-1.43.59L10.3 9.45l-7.72 7.72c-.78.78-.78 2.05 0 2.83L4 21.41c.39.39.9.59 1.41.59.51 0 1.02-.2 1.41-.59l7.78-7.78 2.81-2.81c.8-.78.8-2.07 0-2.86zM5.41 20L4 18.59l7.72-7.72 1.47 1.35L5.41 20z\"/>\n",
              "  </svg>\n",
              "      </button>\n",
              "      \n",
              "  <style>\n",
              "    .colab-df-container {\n",
              "      display:flex;\n",
              "      flex-wrap:wrap;\n",
              "      gap: 12px;\n",
              "    }\n",
              "\n",
              "    .colab-df-convert {\n",
              "      background-color: #E8F0FE;\n",
              "      border: none;\n",
              "      border-radius: 50%;\n",
              "      cursor: pointer;\n",
              "      display: none;\n",
              "      fill: #1967D2;\n",
              "      height: 32px;\n",
              "      padding: 0 0 0 0;\n",
              "      width: 32px;\n",
              "    }\n",
              "\n",
              "    .colab-df-convert:hover {\n",
              "      background-color: #E2EBFA;\n",
              "      box-shadow: 0px 1px 2px rgba(60, 64, 67, 0.3), 0px 1px 3px 1px rgba(60, 64, 67, 0.15);\n",
              "      fill: #174EA6;\n",
              "    }\n",
              "\n",
              "    [theme=dark] .colab-df-convert {\n",
              "      background-color: #3B4455;\n",
              "      fill: #D2E3FC;\n",
              "    }\n",
              "\n",
              "    [theme=dark] .colab-df-convert:hover {\n",
              "      background-color: #434B5C;\n",
              "      box-shadow: 0px 1px 3px 1px rgba(0, 0, 0, 0.15);\n",
              "      filter: drop-shadow(0px 1px 2px rgba(0, 0, 0, 0.3));\n",
              "      fill: #FFFFFF;\n",
              "    }\n",
              "  </style>\n",
              "\n",
              "      <script>\n",
              "        const buttonEl =\n",
              "          document.querySelector('#df-71325747-63f0-40c8-856a-c540749e72f3 button.colab-df-convert');\n",
              "        buttonEl.style.display =\n",
              "          google.colab.kernel.accessAllowed ? 'block' : 'none';\n",
              "\n",
              "        async function convertToInteractive(key) {\n",
              "          const element = document.querySelector('#df-71325747-63f0-40c8-856a-c540749e72f3');\n",
              "          const dataTable =\n",
              "            await google.colab.kernel.invokeFunction('convertToInteractive',\n",
              "                                                     [key], {});\n",
              "          if (!dataTable) return;\n",
              "\n",
              "          const docLinkHtml = 'Like what you see? Visit the ' +\n",
              "            '<a target=\"_blank\" href=https://colab.research.google.com/notebooks/data_table.ipynb>data table notebook</a>'\n",
              "            + ' to learn more about interactive tables.';\n",
              "          element.innerHTML = '';\n",
              "          dataTable['output_type'] = 'display_data';\n",
              "          await google.colab.output.renderOutput(dataTable, element);\n",
              "          const docLink = document.createElement('div');\n",
              "          docLink.innerHTML = docLinkHtml;\n",
              "          element.appendChild(docLink);\n",
              "        }\n",
              "      </script>\n",
              "    </div>\n",
              "  </div>\n",
              "  "
            ]
          },
          "metadata": {},
          "execution_count": 14
        }
      ]
    },
    {
      "cell_type": "markdown",
      "source": [
        "# **K- Means Clustring**"
      ],
      "metadata": {
        "id": "N3TiW_q9OuiR"
      }
    },
    {
      "cell_type": "code",
      "source": [
        "plt.figure(figsize=(8,8))\n",
        "plt.scatter(rfm_model['Recency'], rfm_model['Monetary'])"
      ],
      "metadata": {
        "colab": {
          "base_uri": "https://localhost:8080/",
          "height": 502
        },
        "id": "aSFuFVBsPR3I",
        "outputId": "33793e90-ab27-4488-c984-6a4143baa5bb"
      },
      "execution_count": null,
      "outputs": [
        {
          "output_type": "execute_result",
          "data": {
            "text/plain": [
              "<matplotlib.collections.PathCollection at 0x7f777c792c90>"
            ]
          },
          "metadata": {},
          "execution_count": 13
        },
        {
          "output_type": "display_data",
          "data": {
            "text/plain": [
              "<Figure size 576x576 with 1 Axes>"
            ],
            "image/png": "[encoded data removed]"
          },
          "metadata": {
            "needs_background": "light"
          }
        }
      ]
    },
    {
      "cell_type": "markdown",
      "source": [
        "The Elbow method is used to determine the optimal number of cluster so we can easily deal with it and in how many forms we can cluster the segmentation of the customer."
      ],
      "metadata": {
        "id": "XMuZ6HPsPZxQ"
      }
    },
    {
      "cell_type": "markdown",
      "source": [
        "# **Applying Elbow Method on Recency and Monetary**"
      ],
      "metadata": {
        "id": "MUFtQu7YPk4x"
      }
    },
    {
      "cell_type": "code",
      "source": [
        "from sklearn.cluster import KMeans\n",
        "from sklearn import preprocessing\n",
        "features_rec_mon=['Recency','Monetary']\n",
        "X_features_rec_mon=rfm_model[features_rec_mon].values\n",
        "scaler_rec_mon=preprocessing.StandardScaler()\n",
        "X_rec_mon=scaler_rec_mon.fit_transform(X_features_rec_mon)\n",
        "X=X_rec_mon\n",
        "distortions = []\n",
        "K = range(1,10)\n",
        "for k in K:\n",
        "    kmeans = KMeans(n_clusters= k)\n",
        "    kmeans = kmeans.fit(X)\n",
        "    distortions.append(kmeans.inertia_)"
      ],
      "metadata": {
        "id": "Li7PP2vZPeQF"
      },
      "execution_count": null,
      "outputs": []
    },
    {
      "cell_type": "markdown",
      "source": [
        "# **Plotting the distortions of K-Means**"
      ],
      "metadata": {
        "id": "8U6e_t2Te3B3"
      }
    },
    {
      "cell_type": "code",
      "source": [
        "plt.figure(figsize=(16,8))\n",
        "plt.plot(K, distortions, 'bx-')\n",
        "plt.xlabel('k')\n",
        "plt.ylabel('Distortion')\n",
        "plt.title('The Elbow Method showing the optimal k for Recency and Monetary',fontsize =20)\n",
        "plt.show()"
      ],
      "metadata": {
        "colab": {
          "base_uri": "https://localhost:8080/",
          "height": 523
        },
        "id": "hU8SbRFae3kN",
        "outputId": "90c58f08-dc2a-4b97-8d3e-6686de76d5f0"
      },
      "execution_count": null,
      "outputs": [
        {
          "output_type": "display_data",
          "data": {
            "text/plain": [
              "<Figure size 1152x576 with 1 Axes>"
            ],
            "image/png": "[encoded data removed]"
          },
          "metadata": {
            "needs_background": "light"
          }
        }
      ]
    },
    {
      "cell_type": "markdown",
      "source": [
        "The silhoutte method computes the silhoutte coefficients of each point that measures how much a point is similar to its own cluster compared to other clusters, by providing a succinct graphical representation of how well each object has been classified.\n",
        "\n"
      ],
      "metadata": {
        "id": "BV92_urF9-TA"
      }
    },
    {
      "cell_type": "markdown",
      "source": [
        "# **Applying silhouette score on Recency and Monetary** "
      ],
      "metadata": {
        "id": "2_3C_Lw4-Eh3"
      }
    },
    {
      "cell_type": "code",
      "source": [
        "from sklearn.metrics import silhouette_score\n",
        "from sklearn.metrics import silhouette_samples, silhouette_score\n",
        "features_rec_mon = ['Recency','Monetary']\n",
        "X_features_rec_mon = rfm_model[features_rec_mon].values\n",
        "scaler_rec_mon = preprocessing.StandardScaler()\n",
        "X_rec_mon = scaler_rec_mon.fit_transform(X_features_rec_mon)\n",
        "X = X_rec_mon\n",
        "range_n_clusters = [2,3,4,5,6,7,8,9,10]  \n",
        "for n_clusters in range_n_clusters:\n",
        "    clusterer = KMeans(n_clusters=n_clusters)\n",
        "    preds = clusterer.fit_predict(X)\n",
        "    centers = clusterer.cluster_centers_ \n",
        "    score = silhouette_score(X, preds)\n",
        "    print(\"For n_clusters = {}, silhouette score is {}\".format(n_clusters, score))"
      ],
      "metadata": {
        "colab": {
          "base_uri": "https://localhost:8080/"
        },
        "id": "vfBsD7Zj9-z1",
        "outputId": "8c4d73c4-3f7f-48f0-b812-48083b0557d1"
      },
      "execution_count": null,
      "outputs": [
        {
          "output_type": "stream",
          "name": "stdout",
          "text": [
            "For n_clusters = 2, silhouette score is 0.6668198282857047\n",
            "For n_clusters = 3, silhouette score is 0.6824058534436527\n",
            "For n_clusters = 4, silhouette score is 0.6939838541313058\n",
            "For n_clusters = 5, silhouette score is 0.5979104009487998\n",
            "For n_clusters = 6, silhouette score is 0.6020973267146517\n",
            "For n_clusters = 7, silhouette score is 0.4938354959618\n",
            "For n_clusters = 8, silhouette score is 0.5244923453943979\n",
            "For n_clusters = 9, silhouette score is 0.5109064781451955\n",
            "For n_clusters = 10, silhouette score is 0.5140954631995339\n"
          ]
        }
      ]
    },
    {
      "cell_type": "code",
      "source": [
        "# Providing optimal number of cluster\n",
        "kmeans = KMeans(n_clusters=3)\n",
        "kmeans.fit(X)\n",
        "y_kmeans= kmeans.predict(X)"
      ],
      "metadata": {
        "id": "MbDTuY3O-U5F"
      },
      "execution_count": null,
      "outputs": []
    },
    {
      "cell_type": "code",
      "source": [
        "plt.figure(figsize=(15,10))\n",
        "plt.title('Customer Segmentation Based On Recency And Monetary', fontsize = 20)\n",
        "plt.scatter(X[:, 0], X[:, 1], c=y_kmeans, cmap='winter')\n",
        "centers = kmeans.cluster_centers_ \n",
        "plt.scatter(centers[:, 0], centers[:, 1], c='red')"
      ],
      "metadata": {
        "colab": {
          "base_uri": "https://localhost:8080/",
          "height": 632
        },
        "id": "3BemXbYu-dOO",
        "outputId": "0c46cdc8-50f3-4dbf-ea08-9383b5073185"
      },
      "execution_count": null,
      "outputs": [
        {
          "output_type": "execute_result",
          "data": {
            "text/plain": [
              "<matplotlib.collections.PathCollection at 0x7f9a64127690>"
            ]
          },
          "metadata": {},
          "execution_count": 17
        },
        {
          "output_type": "display_data",
          "data": {
            "text/plain": [
              "<Figure size 1080x720 with 1 Axes>"
            ],
            "image/png": "[encoded data removed]"
          },
          "metadata": {
            "needs_background": "light"
          }
        }
      ]
    },
    {
      "cell_type": "markdown",
      "source": [
        "#**Applying DBSCAN  on Recency and Monetary**"
      ],
      "metadata": {
        "id": "WRexxMFO-swa"
      }
    },
    {
      "cell_type": "markdown",
      "source": [
        "**DBSCAN:-** Density Based Spatial Clustering Of Application With Noise.\n",
        "There are two parameters:\n",
        "\n",
        "**Epsilon Point:-** The distance taken to draw a circle considering as a radius of the circle.\n",
        "<BR>**Min_Points:-** There must be present atleast this points. If we consider the min_points as 3 so there should be three points in the circle.\n",
        "<BR>**Core Points:-** The points which have atleast min_points present in the circle are called as core point.\n",
        "<BR>**Boundary Point:-** The point which are neighbour to the core point are called as boundary point.\n",
        "<BR>**Noise Point:-** The point which have neither neighbour point nor core point are called as Noise Point.\n",
        "![dbscan.jpg](data:image/jpeg;base64,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)"
      ],
      "metadata": {
        "id": "iW8OIgM_-z44"
      }
    },
    {
      "cell_type": "code",
      "source": [
        "from sklearn.cluster import DBSCAN\n",
        "from sklearn import metrics \n",
        "clustering = DBSCAN(eps=1, min_samples=10).fit_predict(X)\n",
        "plt.figure(figsize=(13,8))\n",
        "plt.scatter(X[:,0], X[:,1], c=clustering)"
      ],
      "metadata": {
        "colab": {
          "base_uri": "https://localhost:8080/",
          "height": 502
        },
        "id": "eVPOnLK7-tWy",
        "outputId": "b54442df-0dc2-4fbd-db1d-fdbd95e7a6e2"
      },
      "execution_count": 22,
      "outputs": [
        {
          "output_type": "execute_result",
          "data": {
            "text/plain": [
              "<matplotlib.collections.PathCollection at 0x7f105627dd10>"
            ]
          },
          "metadata": {},
          "execution_count": 22
        },
        {
          "output_type": "display_data",
          "data": {
            "text/plain": [
              "<Figure size 936x576 with 1 Axes>"
            ],
            "image/png": "[encoded data removed]"
          },
          "metadata": {
            "needs_background": "light"
          }
        }
      ]
    },
    {
      "cell_type": "markdown",
      "source": [
        "From the above graph we can conclude that the customers are well segmented by Recency and Monetary.\n",
        "Now lets move to the another model for Frequency and Monetary and check for the good optimal number of clusters.\n"
      ],
      "metadata": {
        "id": "8WWxN2Hn_PhQ"
      }
    },
    {
      "cell_type": "code",
      "source": [
        "# Looking in the frequency and monetary feature. \n",
        "plt.figure(figsize=(8,8))\n",
        "plt.scatter(rfm_model['Frequency'], rfm_model['Monetary'])"
      ],
      "metadata": {
        "colab": {
          "base_uri": "https://localhost:8080/",
          "height": 502
        },
        "id": "4muTgf_C_RJ1",
        "outputId": "4b6315a6-76dd-48e9-a5ac-8d94475622d8"
      },
      "execution_count": 15,
      "outputs": [
        {
          "output_type": "execute_result",
          "data": {
            "text/plain": [
              "<matplotlib.collections.PathCollection at 0x7f105f990e90>"
            ]
          },
          "metadata": {},
          "execution_count": 15
        },
        {
          "output_type": "display_data",
          "data": {
            "text/plain": [
              "<Figure size 576x576 with 1 Axes>"
            ],
            "image/png": "[encoded data removed]"
          },
          "metadata": {
            "needs_background": "light"
          }
        }
      ]
    },
    {
      "cell_type": "markdown",
      "source": [
        "# **Applying Elbow Method on Frequency and Monetary**"
      ],
      "metadata": {
        "id": "GDL2biS-PHZV"
      }
    },
    {
      "cell_type": "code",
      "source": [
        "from sklearn.cluster import KMeans\n",
        "from sklearn import preprocessing\n",
        "features_rec_mon=['Frequency','Monetary']\n",
        "X_features_rec_mon=rfm_model[features_rec_mon].values\n",
        "scaler_rec_mon=preprocessing.StandardScaler()\n",
        "X_rec_mon=scaler_rec_mon.fit_transform(X_features_rec_mon)\n",
        "X=X_rec_mon\n",
        "distortions = []\n",
        "K = range(1,10)\n",
        "for k in K:\n",
        "    kmeans = KMeans(n_clusters= k)\n",
        "    kmeans = kmeans.fit(X)\n",
        "    distortions.append(kmeans.inertia_)"
      ],
      "metadata": {
        "id": "RYXvvg0NPIAI"
      },
      "execution_count": 16,
      "outputs": []
    },
    {
      "cell_type": "markdown",
      "source": [
        "# **Plotting the distortions of K-Means**"
      ],
      "metadata": {
        "id": "WNWSOqZQPRzI"
      }
    },
    {
      "cell_type": "code",
      "source": [
        "plt.figure(figsize=(16,8))\n",
        "plt.plot(K, distortions, 'bx-')\n",
        "plt.xlabel('k')\n",
        "plt.ylabel('Distortion')\n",
        "plt.title('The Elbow Method showing the optimal k for Frequency and Monetary',fontsize =20)\n",
        "plt.show()"
      ],
      "metadata": {
        "colab": {
          "base_uri": "https://localhost:8080/",
          "height": 523
        },
        "id": "rDeUAn42PSG9",
        "outputId": "2d95b6f3-9476-4c82-9c87-7c46d9b90eef"
      },
      "execution_count": 17,
      "outputs": [
        {
          "output_type": "display_data",
          "data": {
            "text/plain": [
              "<Figure size 1152x576 with 1 Axes>"
            ],
            "image/png": "[encoded data removed]"
          },
          "metadata": {
            "needs_background": "light"
          }
        }
      ]
    },
    {
      "cell_type": "markdown",
      "source": [
        "From the above graph we can say that the optimal number for the cluster is 3, then we can easily conclude that we can cluster them in the three group."
      ],
      "metadata": {
        "id": "TI3oaSUOPYVs"
      }
    },
    {
      "cell_type": "markdown",
      "source": [
        "# **Applying silhouette score on Frequency and Monetary** "
      ],
      "metadata": {
        "id": "Dg55IA7XPcEL"
      }
    },
    {
      "cell_type": "code",
      "source": [
        "from sklearn.metrics import silhouette_score\n",
        "from sklearn.metrics import silhouette_samples, silhouette_score\n",
        "features_rec_mon = ['Frequency','Monetary']\n",
        "X_features_rec_mon = rfm_model[features_rec_mon].values\n",
        "scaler_rec_mon = preprocessing.StandardScaler()\n",
        "X_rec_mon = scaler_rec_mon.fit_transform(X_features_rec_mon)\n",
        "X = X_rec_mon\n",
        "range_n_clusters = [2,3,4,5,6,7,8,9,10]\n",
        "for n_clusters in range_n_clusters:\n",
        "    clusterer = KMeans(n_clusters=n_clusters)\n",
        "    preds = clusterer.fit_predict(X)\n",
        "    centers = clusterer.cluster_centers_ \n",
        "    score = silhouette_score(X, preds)\n",
        "    print(\"For n_clusters = {}, silhouette score is {}\".format(n_clusters, score))"
      ],
      "metadata": {
        "colab": {
          "base_uri": "https://localhost:8080/"
        },
        "id": "Vm1BE6q9PYr5",
        "outputId": "617c7fac-b1aa-41e5-a8fc-704e63b3b159"
      },
      "execution_count": 18,
      "outputs": [
        {
          "output_type": "stream",
          "name": "stdout",
          "text": [
            "For n_clusters = 2, silhouette score is 0.9695211557880259\n",
            "For n_clusters = 3, silhouette score is 0.9713909185370605\n",
            "For n_clusters = 4, silhouette score is 0.8076977224476267\n",
            "For n_clusters = 5, silhouette score is 0.7739333675115617\n",
            "For n_clusters = 6, silhouette score is 0.7082238873391559\n",
            "For n_clusters = 7, silhouette score is 0.7092787270300132\n",
            "For n_clusters = 8, silhouette score is 0.6399933865731254\n",
            "For n_clusters = 9, silhouette score is 0.600273130029703\n",
            "For n_clusters = 10, silhouette score is 0.6532058893241189\n"
          ]
        }
      ]
    },
    {
      "cell_type": "markdown",
      "source": [
        "Now from the above result, silhouette score for 2 and 3 number of clusters is getting high. So from the above result we can say that the optimal number for clustering the customer is 3."
      ],
      "metadata": {
        "id": "CPW0C79zPl5W"
      }
    },
    {
      "cell_type": "code",
      "source": [
        "# Providing optimal number of cluster\n",
        "kmeans = KMeans(n_clusters=3)\n",
        "kmeans.fit(X)\n",
        "y_kmeans = kmeans.predict(X)"
      ],
      "metadata": {
        "id": "9b60-a8bPmaY"
      },
      "execution_count": 19,
      "outputs": []
    },
    {
      "cell_type": "code",
      "source": [
        "# ploting the Customer Segmentation Based on Frequency and Monetary\n",
        "plt.figure(figsize=(8,8))\n",
        "plt.title('Customer Segmentation Based on Frequency and Monetary',fontsize = 20)\n",
        "plt.scatter(X[:, 0], X[:, 1], c=y_kmeans, cmap='PiYG')\n",
        "centers = kmeans.cluster_centers_\n",
        "plt.scatter(centers[:, 0], centers[:, 1], c='red')"
      ],
      "metadata": {
        "colab": {
          "base_uri": "https://localhost:8080/",
          "height": 523
        },
        "id": "YFrCnhAePt_H",
        "outputId": "319f3f38-4fcb-475a-f799-94736ad7014b"
      },
      "execution_count": 20,
      "outputs": [
        {
          "output_type": "execute_result",
          "data": {
            "text/plain": [
              "<matplotlib.collections.PathCollection at 0x7f105627dd50>"
            ]
          },
          "metadata": {},
          "execution_count": 20
        },
        {
          "output_type": "display_data",
          "data": {
            "text/plain": [
              "<Figure size 576x576 with 1 Axes>"
            ],
            "image/png": "[encoded data removed]"
          },
          "metadata": {
            "needs_background": "light"
          }
        }
      ]
    },
    {
      "cell_type": "markdown",
      "source": [
        "#**Applying DBSCAN  On Freqency and Monetary**"
      ],
      "metadata": {
        "id": "9YDitQfZP1LN"
      }
    },
    {
      "cell_type": "code",
      "source": [
        "clustering = DBSCAN(eps=1, min_samples=10).fit_predict(X)\n",
        "plt.figure(figsize=(13,8))\n",
        "plt.scatter(X[:,0], X[:,1], c=clustering)"
      ],
      "metadata": {
        "colab": {
          "base_uri": "https://localhost:8080/",
          "height": 502
        },
        "id": "6BV-0RspP10V",
        "outputId": "290dd1ed-1e80-488c-ea8b-a56fb067ff66"
      },
      "execution_count": 23,
      "outputs": [
        {
          "output_type": "execute_result",
          "data": {
            "text/plain": [
              "<matplotlib.collections.PathCollection at 0x7f1056169a90>"
            ]
          },
          "metadata": {},
          "execution_count": 23
        },
        {
          "output_type": "display_data",
          "data": {
            "text/plain": [
              "<Figure size 936x576 with 1 Axes>"
            ],
            "image/png": "[encoded data removed]"
          },
          "metadata": {
            "needs_background": "light"
          }
        }
      ]
    },
    {
      "cell_type": "markdown",
      "source": [
        "## **By applying different clustering algorithem to our dataset .we get the optimal number of cluster is equal to 3(Three)**"
      ],
      "metadata": {
        "id": "8U85TdmLQDcy"
      }
    },
    {
      "cell_type": "code",
      "source": [
        "from prettytable import PrettyTable \n",
        "  \n",
        "# Specify the Column Names while initializing the Table \n",
        "myTable = PrettyTable(['SR No.',\"Evaluation_metrics\",'Data', \"Optimal_Number_of_cluster\"]) \n",
        "  \n",
        "# Add rows \n",
        "myTable.add_row(['1',\"K-Means with silhouette_score \", \"RM\", \"3\"]) \n",
        "myTable.add_row(['2',\"K-Means with Elbow methos  \", \"RM\", \"3\"])\n",
        "myTable.add_row(['3',\"DBSCAN \", \"RM\", \"3\"])\n",
        "myTable.add_row(['4',\"K-Means with silhouette_score \", \"FM\", \"3\"]) \n",
        "myTable.add_row(['5',\"K-Means with Elbow methos  \", \"FM\", \"3\"])\n",
        "myTable.add_row(['6',\"DBSCAN \", \"FM\", \"3\"])\n",
        "print(myTable)"
      ],
      "metadata": {
        "colab": {
          "base_uri": "https://localhost:8080/"
        },
        "id": "MjMtlKOqQDx0",
        "outputId": "b5b6b865-0b72-409e-c720-1514c8139bcc"
      },
      "execution_count": 24,
      "outputs": [
        {
          "output_type": "stream",
          "name": "stdout",
          "text": [
            "+--------+--------------------------------+------+---------------------------+\n",
            "| SR No. |       Evaluation_metrics       | Data | Optimal_Number_of_cluster |\n",
            "+--------+--------------------------------+------+---------------------------+\n",
            "|   1    | K-Means with silhouette_score  |  RM  |             3             |\n",
            "|   2    |  K-Means with Elbow methos     |  RM  |             3             |\n",
            "|   3    |            DBSCAN              |  RM  |             3             |\n",
            "|   4    | K-Means with silhouette_score  |  FM  |             3             |\n",
            "|   5    |  K-Means with Elbow methos     |  FM  |             3             |\n",
            "|   6    |            DBSCAN              |  FM  |             3             |\n",
            "+--------+--------------------------------+------+---------------------------+\n"
          ]
        }
      ]
    },
    {
      "cell_type": "markdown",
      "source": [
        "# **Conclusion**\n",
        "\n",
        "We have a dataset of the customer for non-store online retailer wholesaler, in which we analyze the transaction history as per Country. The behaviour of the each and every customer can be easily analyze with the EDA. \n",
        "<br>Then we done some preprocessing of the dataset and we come up with the feature engineering in which we explore the data and get some more view in the dataset. We build a RFM model in which we analyze the customer as according with this model and come up with the RFM score. \n",
        "<br>Then we deal with some evaluation metrics such as silhouette score, Elbow method to find the optimal number of cluster and plot the graph.Then we come up with the final conclusion that we can cluster the customer based on the frequency and monetary so this is the good model to cluster and the optimal number for the cluster of customer data is 3. \n",
        "<br>Hence we can go ahead with this number of cluster and it giving us a good segmentation for the customer and we can easily solve the business problem with this cluster model."
      ],
      "metadata": {
        "id": "cir87ss9QKdg"
      }
    },
    {
      "cell_type": "code",
      "source": [
        ""
      ],
      "metadata": {
        "id": "NVOAtejuQOVJ"
      },
      "execution_count": null,
      "outputs": []
    }
  ]
}